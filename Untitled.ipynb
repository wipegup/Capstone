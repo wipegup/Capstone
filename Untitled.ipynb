{
 "cells": [
  {
   "cell_type": "code",
   "execution_count": 3,
   "metadata": {
    "scrolled": true
   },
   "outputs": [
    {
     "name": "stderr",
     "output_type": "stream",
     "text": [
      "C:\\Users\\William\\Anaconda3\\lib\\site-packages\\ipykernel_launcher.py:115: SettingWithCopyWarning: \n",
      "A value is trying to be set on a copy of a slice from a DataFrame.\n",
      "Try using .loc[row_indexer,col_indexer] = value instead\n",
      "\n",
      "See the caveats in the documentation: http://pandas.pydata.org/pandas-docs/stable/indexing.html#indexing-view-versus-copy\n"
     ]
    },
    {
     "name": "stdout",
     "output_type": "stream",
     "text": [
      "std\n",
      "{'max_depth': 10, 'min_samples_split': 2, 'min_samples_leaf': 1}\n",
      "{'max_depth': 10, 'min_samples_split': 2, 'min_samples_leaf': 2}\n",
      "{'max_depth': 10, 'min_samples_split': 3, 'min_samples_leaf': 1}\n",
      "{'max_depth': 10, 'min_samples_split': 3, 'min_samples_leaf': 2}\n",
      "{'max_depth': 10, 'min_samples_split': 4, 'min_samples_leaf': 1}\n",
      "{'max_depth': 10, 'min_samples_split': 4, 'min_samples_leaf': 2}\n",
      "{'max_depth': 12, 'min_samples_split': 2, 'min_samples_leaf': 1}\n",
      "{'max_depth': 12, 'min_samples_split': 2, 'min_samples_leaf': 2}\n",
      "{'max_depth': 12, 'min_samples_split': 3, 'min_samples_leaf': 1}\n",
      "{'max_depth': 12, 'min_samples_split': 3, 'min_samples_leaf': 2}\n",
      "{'max_depth': 12, 'min_samples_split': 4, 'min_samples_leaf': 1}\n",
      "{'max_depth': 12, 'min_samples_split': 4, 'min_samples_leaf': 2}\n",
      "{'max_depth': 14, 'min_samples_split': 2, 'min_samples_leaf': 1}\n",
      "{'max_depth': 14, 'min_samples_split': 2, 'min_samples_leaf': 2}\n",
      "{'max_depth': 14, 'min_samples_split': 3, 'min_samples_leaf': 1}\n",
      "{'max_depth': 14, 'min_samples_split': 3, 'min_samples_leaf': 2}\n",
      "{'max_depth': 14, 'min_samples_split': 4, 'min_samples_leaf': 1}\n",
      "{'max_depth': 14, 'min_samples_split': 4, 'min_samples_leaf': 2}\n",
      "{'max_depth': 16, 'min_samples_split': 2, 'min_samples_leaf': 1}\n",
      "{'max_depth': 16, 'min_samples_split': 2, 'min_samples_leaf': 2}\n",
      "{'max_depth': 16, 'min_samples_split': 3, 'min_samples_leaf': 1}\n",
      "{'max_depth': 16, 'min_samples_split': 3, 'min_samples_leaf': 2}\n",
      "{'max_depth': 16, 'min_samples_split': 4, 'min_samples_leaf': 1}\n",
      "{'max_depth': 16, 'min_samples_split': 4, 'min_samples_leaf': 2}\n",
      "{'max_depth': 18, 'min_samples_split': 2, 'min_samples_leaf': 1}\n",
      "{'max_depth': 18, 'min_samples_split': 2, 'min_samples_leaf': 2}\n",
      "{'max_depth': 18, 'min_samples_split': 3, 'min_samples_leaf': 1}\n",
      "{'max_depth': 18, 'min_samples_split': 3, 'min_samples_leaf': 2}\n",
      "{'max_depth': 18, 'min_samples_split': 4, 'min_samples_leaf': 1}\n",
      "{'max_depth': 18, 'min_samples_split': 4, 'min_samples_leaf': 2}\n",
      "{'max_depth': 20, 'min_samples_split': 2, 'min_samples_leaf': 1}\n",
      "{'max_depth': 20, 'min_samples_split': 2, 'min_samples_leaf': 2}\n",
      "{'max_depth': 20, 'min_samples_split': 3, 'min_samples_leaf': 1}\n",
      "{'max_depth': 20, 'min_samples_split': 3, 'min_samples_leaf': 2}\n",
      "{'max_depth': 20, 'min_samples_split': 4, 'min_samples_leaf': 1}\n",
      "{'max_depth': 20, 'min_samples_split': 4, 'min_samples_leaf': 2}\n",
      "96.39848232269287\n",
      "raw\n",
      "{'max_depth': 10, 'min_samples_split': 2, 'min_samples_leaf': 1}\n",
      "{'max_depth': 10, 'min_samples_split': 2, 'min_samples_leaf': 2}\n",
      "{'max_depth': 10, 'min_samples_split': 3, 'min_samples_leaf': 1}\n",
      "{'max_depth': 10, 'min_samples_split': 3, 'min_samples_leaf': 2}\n",
      "{'max_depth': 10, 'min_samples_split': 4, 'min_samples_leaf': 1}\n",
      "{'max_depth': 10, 'min_samples_split': 4, 'min_samples_leaf': 2}\n",
      "{'max_depth': 12, 'min_samples_split': 2, 'min_samples_leaf': 1}\n",
      "{'max_depth': 12, 'min_samples_split': 2, 'min_samples_leaf': 2}\n",
      "{'max_depth': 12, 'min_samples_split': 3, 'min_samples_leaf': 1}\n",
      "{'max_depth': 12, 'min_samples_split': 3, 'min_samples_leaf': 2}\n",
      "{'max_depth': 12, 'min_samples_split': 4, 'min_samples_leaf': 1}\n",
      "{'max_depth': 12, 'min_samples_split': 4, 'min_samples_leaf': 2}\n",
      "{'max_depth': 14, 'min_samples_split': 2, 'min_samples_leaf': 1}\n",
      "{'max_depth': 14, 'min_samples_split': 2, 'min_samples_leaf': 2}\n",
      "{'max_depth': 14, 'min_samples_split': 3, 'min_samples_leaf': 1}\n",
      "{'max_depth': 14, 'min_samples_split': 3, 'min_samples_leaf': 2}\n",
      "{'max_depth': 14, 'min_samples_split': 4, 'min_samples_leaf': 1}\n",
      "{'max_depth': 14, 'min_samples_split': 4, 'min_samples_leaf': 2}\n",
      "{'max_depth': 16, 'min_samples_split': 2, 'min_samples_leaf': 1}\n",
      "{'max_depth': 16, 'min_samples_split': 2, 'min_samples_leaf': 2}\n",
      "{'max_depth': 16, 'min_samples_split': 3, 'min_samples_leaf': 1}\n",
      "{'max_depth': 16, 'min_samples_split': 3, 'min_samples_leaf': 2}\n",
      "{'max_depth': 16, 'min_samples_split': 4, 'min_samples_leaf': 1}\n",
      "{'max_depth': 16, 'min_samples_split': 4, 'min_samples_leaf': 2}\n",
      "{'max_depth': 18, 'min_samples_split': 2, 'min_samples_leaf': 1}\n",
      "{'max_depth': 18, 'min_samples_split': 2, 'min_samples_leaf': 2}\n",
      "{'max_depth': 18, 'min_samples_split': 3, 'min_samples_leaf': 1}\n",
      "{'max_depth': 18, 'min_samples_split': 3, 'min_samples_leaf': 2}\n",
      "{'max_depth': 18, 'min_samples_split': 4, 'min_samples_leaf': 1}\n",
      "{'max_depth': 18, 'min_samples_split': 4, 'min_samples_leaf': 2}\n",
      "{'max_depth': 20, 'min_samples_split': 2, 'min_samples_leaf': 1}\n",
      "{'max_depth': 20, 'min_samples_split': 2, 'min_samples_leaf': 2}\n",
      "{'max_depth': 20, 'min_samples_split': 3, 'min_samples_leaf': 1}\n",
      "{'max_depth': 20, 'min_samples_split': 3, 'min_samples_leaf': 2}\n",
      "{'max_depth': 20, 'min_samples_split': 4, 'min_samples_leaf': 1}\n",
      "{'max_depth': 20, 'min_samples_split': 4, 'min_samples_leaf': 2}\n",
      "114.45143246650696\n",
      "log\n",
      "{'max_depth': 10, 'min_samples_split': 2, 'min_samples_leaf': 1}\n",
      "{'max_depth': 10, 'min_samples_split': 2, 'min_samples_leaf': 2}\n",
      "{'max_depth': 10, 'min_samples_split': 3, 'min_samples_leaf': 1}\n",
      "{'max_depth': 10, 'min_samples_split': 3, 'min_samples_leaf': 2}\n",
      "{'max_depth': 10, 'min_samples_split': 4, 'min_samples_leaf': 1}\n",
      "{'max_depth': 10, 'min_samples_split': 4, 'min_samples_leaf': 2}\n",
      "{'max_depth': 12, 'min_samples_split': 2, 'min_samples_leaf': 1}\n",
      "{'max_depth': 12, 'min_samples_split': 2, 'min_samples_leaf': 2}\n",
      "{'max_depth': 12, 'min_samples_split': 3, 'min_samples_leaf': 1}\n",
      "{'max_depth': 12, 'min_samples_split': 3, 'min_samples_leaf': 2}\n",
      "{'max_depth': 12, 'min_samples_split': 4, 'min_samples_leaf': 1}\n",
      "{'max_depth': 12, 'min_samples_split': 4, 'min_samples_leaf': 2}\n",
      "{'max_depth': 14, 'min_samples_split': 2, 'min_samples_leaf': 1}\n",
      "{'max_depth': 14, 'min_samples_split': 2, 'min_samples_leaf': 2}\n",
      "{'max_depth': 14, 'min_samples_split': 3, 'min_samples_leaf': 1}\n",
      "{'max_depth': 14, 'min_samples_split': 3, 'min_samples_leaf': 2}\n",
      "{'max_depth': 14, 'min_samples_split': 4, 'min_samples_leaf': 1}\n",
      "{'max_depth': 14, 'min_samples_split': 4, 'min_samples_leaf': 2}\n",
      "{'max_depth': 16, 'min_samples_split': 2, 'min_samples_leaf': 1}\n",
      "{'max_depth': 16, 'min_samples_split': 2, 'min_samples_leaf': 2}\n",
      "{'max_depth': 16, 'min_samples_split': 3, 'min_samples_leaf': 1}\n",
      "{'max_depth': 16, 'min_samples_split': 3, 'min_samples_leaf': 2}\n",
      "{'max_depth': 16, 'min_samples_split': 4, 'min_samples_leaf': 1}\n",
      "{'max_depth': 16, 'min_samples_split': 4, 'min_samples_leaf': 2}\n",
      "{'max_depth': 18, 'min_samples_split': 2, 'min_samples_leaf': 1}\n",
      "{'max_depth': 18, 'min_samples_split': 2, 'min_samples_leaf': 2}\n",
      "{'max_depth': 18, 'min_samples_split': 3, 'min_samples_leaf': 1}\n",
      "{'max_depth': 18, 'min_samples_split': 3, 'min_samples_leaf': 2}\n",
      "{'max_depth': 18, 'min_samples_split': 4, 'min_samples_leaf': 1}\n",
      "{'max_depth': 18, 'min_samples_split': 4, 'min_samples_leaf': 2}\n",
      "{'max_depth': 20, 'min_samples_split': 2, 'min_samples_leaf': 1}\n",
      "{'max_depth': 20, 'min_samples_split': 2, 'min_samples_leaf': 2}\n",
      "{'max_depth': 20, 'min_samples_split': 3, 'min_samples_leaf': 1}\n",
      "{'max_depth': 20, 'min_samples_split': 3, 'min_samples_leaf': 2}\n",
      "{'max_depth': 20, 'min_samples_split': 4, 'min_samples_leaf': 1}\n",
      "{'max_depth': 20, 'min_samples_split': 4, 'min_samples_leaf': 2}\n",
      "90.83744621276855\n",
      "total 301.6873610019684\n"
     ]
    }
   ],
   "source": [
    "exec(open('./TreeSearcher.py').read())"
   ]
  },
  {
   "cell_type": "code",
   "execution_count": 5,
   "metadata": {
    "collapsed": true
   },
   "outputs": [],
   "source": [
    "import pickle\n",
    "with open('searched.pickle', 'rb') as f:\n",
    "        df = pickle.load(f)"
   ]
  },
  {
   "cell_type": "code",
   "execution_count": 10,
   "metadata": {},
   "outputs": [],
   "source": [
    "import pandas as pd\n",
    "df = pd.DataFrame(df)"
   ]
  },
  {
   "cell_type": "code",
   "execution_count": 11,
   "metadata": {},
   "outputs": [
    {
     "data": {
      "text/html": [
       "<div>\n",
       "<style>\n",
       "    .dataframe thead tr:only-child th {\n",
       "        text-align: right;\n",
       "    }\n",
       "\n",
       "    .dataframe thead th {\n",
       "        text-align: left;\n",
       "    }\n",
       "\n",
       "    .dataframe tbody tr th {\n",
       "        vertical-align: top;\n",
       "    }\n",
       "</style>\n",
       "<table border=\"1\" class=\"dataframe\">\n",
       "  <thead>\n",
       "    <tr style=\"text-align: right;\">\n",
       "      <th></th>\n",
       "      <th>1</th>\n",
       "      <th>2</th>\n",
       "      <th>3</th>\n",
       "    </tr>\n",
       "  </thead>\n",
       "  <tbody>\n",
       "    <tr>\n",
       "      <th>count</th>\n",
       "      <td>108.000000</td>\n",
       "      <td>108.000000</td>\n",
       "      <td>108.000000</td>\n",
       "    </tr>\n",
       "    <tr>\n",
       "      <th>mean</th>\n",
       "      <td>0.306041</td>\n",
       "      <td>0.133973</td>\n",
       "      <td>2.793064</td>\n",
       "    </tr>\n",
       "    <tr>\n",
       "      <th>std</th>\n",
       "      <td>0.231783</td>\n",
       "      <td>0.066002</td>\n",
       "      <td>0.594567</td>\n",
       "    </tr>\n",
       "    <tr>\n",
       "      <th>min</th>\n",
       "      <td>-0.067693</td>\n",
       "      <td>0.062000</td>\n",
       "      <td>2.036909</td>\n",
       "    </tr>\n",
       "    <tr>\n",
       "      <th>25%</th>\n",
       "      <td>0.019840</td>\n",
       "      <td>0.087099</td>\n",
       "      <td>2.328222</td>\n",
       "    </tr>\n",
       "    <tr>\n",
       "      <th>50%</th>\n",
       "      <td>0.402659</td>\n",
       "      <td>0.097927</td>\n",
       "      <td>2.664131</td>\n",
       "    </tr>\n",
       "    <tr>\n",
       "      <th>75%</th>\n",
       "      <td>0.504079</td>\n",
       "      <td>0.207014</td>\n",
       "      <td>3.165103</td>\n",
       "    </tr>\n",
       "    <tr>\n",
       "      <th>max</th>\n",
       "      <td>0.556270</td>\n",
       "      <td>0.292995</td>\n",
       "      <td>4.594485</td>\n",
       "    </tr>\n",
       "  </tbody>\n",
       "</table>\n",
       "</div>"
      ],
      "text/plain": [
       "                1           2           3\n",
       "count  108.000000  108.000000  108.000000\n",
       "mean     0.306041    0.133973    2.793064\n",
       "std      0.231783    0.066002    0.594567\n",
       "min     -0.067693    0.062000    2.036909\n",
       "25%      0.019840    0.087099    2.328222\n",
       "50%      0.402659    0.097927    2.664131\n",
       "75%      0.504079    0.207014    3.165103\n",
       "max      0.556270    0.292995    4.594485"
      ]
     },
     "execution_count": 11,
     "metadata": {},
     "output_type": "execute_result"
    }
   ],
   "source": [
    "df.describe()"
   ]
  },
  {
   "cell_type": "code",
   "execution_count": null,
   "metadata": {
    "collapsed": true
   },
   "outputs": [],
   "source": []
  },
  {
   "cell_type": "code",
   "execution_count": 13,
   "metadata": {
    "collapsed": true
   },
   "outputs": [],
   "source": [
    "import matplotlib.pyplot as plt\n",
    "%matplotlib inline\n",
    "import numpy as np"
   ]
  },
  {
   "cell_type": "code",
   "execution_count": 28,
   "metadata": {},
   "outputs": [],
   "source": [
    "x = list(range(0,21))\n",
    "y = [e**2 for e in x]"
   ]
  },
  {
   "cell_type": "code",
   "execution_count": 29,
   "metadata": {},
   "outputs": [
    {
     "data": {
      "text/plain": [
       "[<matplotlib.lines.Line2D at 0x2796f2a5ac8>]"
      ]
     },
     "execution_count": 29,
     "metadata": {},
     "output_type": "execute_result"
    },
    {
     "data": {
      "image/png": "[encoded data removed]",
      "text/plain": [
       "<matplotlib.figure.Figure at 0x2796f296cf8>"
      ]
     },
     "metadata": {},
     "output_type": "display_data"
    }
   ],
   "source": [
    "plt.plot(x,y)"
   ]
  },
  {
   "cell_type": "code",
   "execution_count": 32,
   "metadata": {},
   "outputs": [
    {
     "data": {
      "text/plain": [
       "[<matplotlib.lines.Line2D at 0x2796db3d668>]"
      ]
     },
     "execution_count": 32,
     "metadata": {},
     "output_type": "execute_result"
    },
    {
     "data": {
      "image/png": "[encoded data removed]",
      "text/plain": [
       "<matplotlib.figure.Figure at 0x2796db3d6a0>"
      ]
     },
     "metadata": {},
     "output_type": "display_data"
    }
   ],
   "source": [
    "plt.scatter(x,y, marker = '*')\n",
    "plt.plot(x,[100*e for e in x], c = 'red')\n",
    "\n"
   ]
  },
  {
   "cell_type": "code",
   "execution_count": null,
   "metadata": {
    "collapsed": true
   },
   "outputs": [],
   "source": []
  }
 ],
 "metadata": {
  "kernelspec": {
   "display_name": "Python 3",
   "language": "python",
   "name": "python3"
  },
  "language_info": {
   "codemirror_mode": {
    "name": "ipython",
    "version": 3
   },
   "file_extension": ".py",
   "mimetype": "text/x-python",
   "name": "python",
   "nbconvert_exporter": "python",
   "pygments_lexer": "ipython3",
   "version": "3.6.3"
  }
 },
 "nbformat": 4,
 "nbformat_minor": 2
}
