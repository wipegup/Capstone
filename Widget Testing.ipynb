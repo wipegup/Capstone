{
 "cells": [
  {
   "cell_type": "code",
   "execution_count": 4,
   "metadata": {},
   "outputs": [
    {
     "data": {
      "application/vnd.jupyter.widget-view+json": {
       "model_id": "c1399a7724dd4baaaf5e608da501b325",
       "version_major": 2,
       "version_minor": 0
      },
      "text/plain": [
       "A Jupyter Widget"
      ]
     },
     "metadata": {},
     "output_type": "display_data"
    }
   ],
   "source": [
    "exec(open('./temp.py').read())\n",
    "widgetTest()"
   ]
  },
  {
   "cell_type": "markdown",
   "metadata": {},
   "source": [
    "I'm trying to figure out how to better control the styling of how the various widgets are adjusted and centered and spaced.\n",
    "\n",
    "I mostly need one example to help guide my way. The only examples given in the docs [here](http://ipywidgets.readthedocs.io/en/latest/examples/Widget%20Styling.html) are trivial.  \n",
    "\n",
    "\n",
    "For example, in the below layout, the check-boxes are absurdly far apart."
   ]
  },
  {
   "cell_type": "code",
   "execution_count": 6,
   "metadata": {},
   "outputs": [
    {
     "data": {
      "application/vnd.jupyter.widget-view+json": {
       "model_id": "52834d39a52449c2a29a7d95cf38a4f3",
       "version_major": 2,
       "version_minor": 0
      },
      "text/plain": [
       "A Jupyter Widget"
      ]
     },
     "metadata": {},
     "output_type": "display_data"
    }
   ],
   "source": [
    "spgSelector = {}\n",
    "spgSelector['which'] = Dropdown( options = {'Only':True, 'Not':False},\n",
    "                            value = False, layout = Layout(width = '150px'))\n",
    "\n",
    "spgSelector['reset'] = Button(description = 'Reset')\n",
    "for i in list(range(1,11)) + [11,21,31]:\n",
    "    if i < 11:\n",
    "        spgSelector[i] = Checkbox(value = False, description = str(i), layout = Layout(width = '150px'))\n",
    "    else:\n",
    "        spgSelector[i] = Checkbox(value = False, description = '>' + str(i-1))\n",
    "\n",
    "spgSelector[1].value = True\n",
    "\n",
    "def resetSpGCheckBoxes(b):\n",
    "    #print(b)\n",
    "    for k in spgSelector:\n",
    "        if type(k) == int:\n",
    "            spgSelector[k].value = False\n",
    "        spgSelector[1].value == True\n",
    "\n",
    "spgSelector['reset'].on_click(resetSpGCheckBoxes)\n",
    "\n",
    "spgSelectorLayout = HBox([\n",
    "                        VBox([spgSelector[i] for i in range(1,6)]),\n",
    "                        VBox([spgSelector[i] for i in range(6,11)]),\n",
    "                        VBox([spgSelector[i] for i in [11,21,31,'which','reset']])\n",
    "                    ])\n",
    "\n",
    "spgSelectorLayout"
   ]
  },
  {
   "cell_type": "markdown",
   "metadata": {},
   "source": [
    "Then here, the manner in which the boxes and labels are adjusted does not look good:\n"
   ]
  },
  {
   "cell_type": "code",
   "execution_count": 8,
   "metadata": {},
   "outputs": [
    {
     "data": {
      "application/vnd.jupyter.widget-view+json": {
       "model_id": "cf231538c7304b3e8d8fa775797971dd",
       "version_major": 2,
       "version_minor": 0
      },
      "text/plain": [
       "A Jupyter Widget"
      ]
     },
     "metadata": {},
     "output_type": "display_data"
    }
   ],
   "source": [
    "UAEpochCheck = Checkbox( value = False, description = 'Date Range')\n",
    "epochKind =  Dropdown(\n",
    "                    options = {'Species':'s', 'Genus':'g'},\n",
    "                    value = 's', description = 'Dates')#,\n",
    "                    #layout = Layout(width = '160px'))\n",
    "UAEStart = BoundedIntText( value = 1757,\n",
    "                    description='Start:', **rangeTextDefaults)\n",
    "UAEEnd = BoundedIntText( value = 2020,\n",
    "                    description='End:', **rangeTextDefaults)\n",
    "widgets.widget_link.Link((UAEStart, 'value'), (UAEEnd, 'min'))\n",
    "widgets.widget_link.Link((UAEEnd, 'value'), (UAEStart, 'max'))\n",
    "\n",
    "VBox([\n",
    "    HBox([UAEpochCheck, epochKind]),\n",
    "    HBox([UAEStart, UAEEnd])\n",
    "])"
   ]
  }
 ],
 "metadata": {
  "kernelspec": {
   "display_name": "Python 3",
   "language": "python",
   "name": "python3"
  },
  "language_info": {
   "codemirror_mode": {
    "name": "ipython",
    "version": 3
   },
   "file_extension": ".py",
   "mimetype": "text/x-python",
   "name": "python",
   "nbconvert_exporter": "python",
   "pygments_lexer": "ipython3",
   "version": "3.6.3"
  }
 },
 "nbformat": 4,
 "nbformat_minor": 2
}
