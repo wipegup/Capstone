{
 "cells": [
  {
   "cell_type": "markdown",
   "metadata": {},
   "source": [
    "### Data Scraping"
   ]
  },
  {
   "cell_type": "code",
   "execution_count": 139,
   "metadata": {
    "collapsed": true
   },
   "outputs": [],
   "source": [
    "import requests\n",
    "from bs4 import BeautifulSoup\n",
    "import pandas as pd"
   ]
  },
  {
   "cell_type": "code",
   "execution_count": 140,
   "metadata": {},
   "outputs": [
    {
     "name": "stdout",
     "output_type": "stream",
     "text": [
      "200\n"
     ]
    }
   ],
   "source": [
    "response = requests.get('http://www.worldbirdnames.org/master_ioc-names_xml.xml')\n",
    "soup = BeautifulSoup(response.text, 'xml')\n",
    "print(response.status_code)\n",
    "\n",
    "speciesTree = []\n",
    "for o in soup.find_all('order'):\n",
    "    oname = o.find('latin_name').text\n",
    "    for f in o.find_all('family'):\n",
    "        fname = f.find('latin_name').text\n",
    "        for g in f.find_all('genus'):\n",
    "            gname = g.find('latin_name').text\n",
    "            gAuthority = g.find('authority').text\n",
    "            rank = 0\n",
    "            for s in g.find_all('species'):\n",
    "                rank +=1\n",
    "                sname = s.find('latin_name').text\n",
    "                toApp = [rank, oname, fname, gname, sname, gAuthority, s.find('authority').text, s.find('breeding_regions').text]\n",
    "                speciesTree.append(toApp)"
   ]
  },
  {
   "cell_type": "markdown",
   "metadata": {},
   "source": [
    "### Cleaning"
   ]
  },
  {
   "cell_type": "code",
   "execution_count": 141,
   "metadata": {
    "collapsed": true
   },
   "outputs": [],
   "source": [
    "def cleanNames(nameCol):\n",
    "    toRet = []\n",
    "    for n in nameCol:\n",
    "        #print(n)\n",
    "        n = n.replace(',', '')\n",
    "        n = n.replace('& ', '')\n",
    "        n = n.replace('et al', 'EtAl')\n",
    "        n = n.strip()\n",
    "        #print(n)\n",
    "        toRet.append(n)\n",
    "    return toRet"
   ]
  },
  {
   "cell_type": "code",
   "execution_count": 142,
   "metadata": {
    "collapsed": true,
    "scrolled": true
   },
   "outputs": [],
   "source": [
    "df = pd.DataFrame(speciesTree)\n",
    "df.columns = ['Rank', 'Order', 'Family','Genus','Species','GAuth','SAuth','BreedRegion']\n",
    "\n",
    "df['OrigG'] = [a.count(')') == 0 for a in df['SAuth']]\n",
    "df['SAuth'] = df['SAuth'].str.replace( ')', '')\n",
    "df['SAuth'] = df['SAuth'].str.replace( '(', '')\n",
    "\n",
    "df['SDate'] = [int(a[-4:]) for a in df['SAuth']]\n",
    "df['SAuthors'] = [ a[:-4] for a in df['SAuth']]\n",
    "\n",
    "df['GDate'] = [int(a[-4:]) if a != 'E' else 1816 for a in df['GAuth'] ]\n",
    "df['GAuthors'] = [a[:-4] if a != 'E' else 'Vieillot' for a in df['GAuth']]\n",
    "\n",
    "df['SAuthors'] = cleanNames(df['SAuthors'])\n",
    "df['GAuthors'] = cleanNames(df['GAuthors'])\n",
    "df['BreedRegion'] = cleanNames(df['BreedRegion'])\n",
    "\n",
    "df = df.drop(['GAuth','SAuth'], axis = 'columns')\n",
    "df['DateRank'] = df.groupby('Genus')['SDate'].rank(ascending = True, method = 'min').astype(int)\n",
    "#df['FullName'] = df['Order'] +' '+ df['Family']+' ' + df['Genus']+'_' + df['Species'].str[:-2]\n",
    "\n",
    "spg = df.groupby('Genus')['Species'].count()\n",
    "spg.name = 'SpG'\n",
    "\n",
    "raw = df.merge(pd.DataFrame(spg), left_on= 'Genus', right_index= True)\n",
    "#df.to_csv('SpGOrig.csv')"
   ]
  },
  {
   "cell_type": "code",
   "execution_count": 287,
   "metadata": {
    "collapsed": true
   },
   "outputs": [],
   "source": [
    "raw = pd.read_csv('SpGOrig.csv', encoding = 'ISO-8859-1', index_col = 0)"
   ]
  },
  {
   "cell_type": "code",
   "execution_count": 288,
   "metadata": {
    "collapsed": true
   },
   "outputs": [],
   "source": [
    "def addToNameDict(wds,MWNameDict):\n",
    "    if len(wds) == 0:\n",
    "        return None\n",
    "    else:\n",
    "        if wds[0] in MWNameDict:\n",
    "            toPass = MWNameDict[wds[0]]\n",
    "           \n",
    "        else:\n",
    "            toPass = {}\n",
    "        MWNameDict[wds[0]] = addToNameDict(wds[1:], toPass)\n",
    "        return MWNameDict"
   ]
  },
  {
   "cell_type": "code",
   "execution_count": 315,
   "metadata": {
    "collapsed": true
   },
   "outputs": [],
   "source": [
    "multiWordNames = ['zu Wied-Neuwied', 'Meyer de Schauensee', 'Barboza du Bocage',\n",
    "                 'de Sélys-Longchamps', 'Du Bus de Gisignies',\n",
    "                 'Gurney Sr', 'de Sparre', 'Gurney Jr',\n",
    "                 'Xántus de Vésey', 'Da Silva Maia', 'de la Llave',\n",
    "                 'de Filippi', 'Phelps Jr', 'Cardoso da Silva Novaes',\n",
    "                 'Wetmore Phelps Jr', 'Giraud Jr', 'De Vis',\n",
    "                 'De Roo', 'La Touche', 'Marshall JT Jr',\n",
    "                 'de Tarragon', 'Phelps Jr', 'Le Maout',\n",
    "                 'Raposo do Amaral']"
   ]
  },
  {
   "cell_type": "code",
   "execution_count": 316,
   "metadata": {
    "collapsed": true
   },
   "outputs": [],
   "source": [
    "MWND = {}\n",
    "for n in multiWordNames:\n",
    "    MWND = addToNameDict(n.lower().split(' '), MWND)"
   ]
  },
  {
   "cell_type": "code",
   "execution_count": 402,
   "metadata": {
    "collapsed": true
   },
   "outputs": [],
   "source": [
    "def authorSplit(ent):\n",
    "    lst=[]\n",
    "    spt = ent.split(' ')\n",
    "    i = 0\n",
    "    while i < len(spt):\n",
    "        increment = 1\n",
    "        \n",
    "        if spt[i].isupper():\n",
    "            prev = lst.pop()\n",
    "            lst.append(' '.join([prev, spt[i]]).lower())\n",
    "            \n",
    "        elif (len(spt[i:])>1)&(spt[i].lower() in MWND):\n",
    "            long = longName(spt[i:])\n",
    "            lst.append(long)\n",
    "            increment = len(long.split(' '))\n",
    "                       \n",
    "        else:\n",
    "            lst.append(spt[i].lower())\n",
    "        i+=increment\n",
    "    return lst\n",
    "\n",
    "def longName(nList):\n",
    "    #print(nList)\n",
    "    toRet = []\n",
    "    more = MWND.copy()\n",
    "    \n",
    "    j = 0\n",
    "    while more:\n",
    "        \n",
    "        toRet.append(nList[j].lower())\n",
    "        if nList[j].lower() in more:\n",
    "            more = more[nList[j].lower()]\n",
    "        else:\n",
    "            if j == 1:\n",
    "                return nList[0]\n",
    "            else:\n",
    "                print('no')\n",
    "        \n",
    "        j+=1\n",
    "    #print(' '.join(toRet))\n",
    "    return ' '.join(toRet)"
   ]
  },
  {
   "cell_type": "code",
   "execution_count": 403,
   "metadata": {
    "collapsed": true,
    "scrolled": true
   },
   "outputs": [],
   "source": [
    "df = raw.copy()\n",
    "df['SAuthors'] = df['SAuthors'].apply(authorSplit)\n",
    "df['GAuthors'] = df['GAuthors'].apply(authorSplit)"
   ]
  },
  {
   "cell_type": "code",
   "execution_count": 605,
   "metadata": {},
   "outputs": [
    {
     "data": {
      "text/html": [
       "<div>\n",
       "<style>\n",
       "    .dataframe thead tr:only-child th {\n",
       "        text-align: right;\n",
       "    }\n",
       "\n",
       "    .dataframe thead th {\n",
       "        text-align: left;\n",
       "    }\n",
       "\n",
       "    .dataframe tbody tr th {\n",
       "        vertical-align: top;\n",
       "    }\n",
       "</style>\n",
       "<table border=\"1\" class=\"dataframe\">\n",
       "  <thead>\n",
       "    <tr style=\"text-align: right;\">\n",
       "      <th></th>\n",
       "      <th>Rank</th>\n",
       "      <th>Order</th>\n",
       "      <th>Family</th>\n",
       "      <th>Genus</th>\n",
       "      <th>Species</th>\n",
       "      <th>BreedRegion</th>\n",
       "      <th>OrigG</th>\n",
       "      <th>SDate</th>\n",
       "      <th>SAuthors</th>\n",
       "      <th>GDate</th>\n",
       "      <th>GAuthors</th>\n",
       "      <th>DateRank</th>\n",
       "      <th>SpG</th>\n",
       "    </tr>\n",
       "  </thead>\n",
       "  <tbody>\n",
       "    <tr>\n",
       "      <th>0</th>\n",
       "      <td>1</td>\n",
       "      <td>STRUTHIONIFORMES</td>\n",
       "      <td>Struthionidae</td>\n",
       "      <td>Struthio</td>\n",
       "      <td>camelus</td>\n",
       "      <td>AF</td>\n",
       "      <td>True</td>\n",
       "      <td>1758</td>\n",
       "      <td>[linnaeus]</td>\n",
       "      <td>1758</td>\n",
       "      <td>[linnaeus]</td>\n",
       "      <td>1</td>\n",
       "      <td>2</td>\n",
       "    </tr>\n",
       "    <tr>\n",
       "      <th>1</th>\n",
       "      <td>2</td>\n",
       "      <td>STRUTHIONIFORMES</td>\n",
       "      <td>Struthionidae</td>\n",
       "      <td>Struthio</td>\n",
       "      <td>molybdophanes</td>\n",
       "      <td>AF</td>\n",
       "      <td>True</td>\n",
       "      <td>1883</td>\n",
       "      <td>[reichenow]</td>\n",
       "      <td>1758</td>\n",
       "      <td>[linnaeus]</td>\n",
       "      <td>2</td>\n",
       "      <td>2</td>\n",
       "    </tr>\n",
       "    <tr>\n",
       "      <th>2</th>\n",
       "      <td>1</td>\n",
       "      <td>RHEIFORMES</td>\n",
       "      <td>Rheidae</td>\n",
       "      <td>Rhea</td>\n",
       "      <td>americana</td>\n",
       "      <td>SA</td>\n",
       "      <td>False</td>\n",
       "      <td>1758</td>\n",
       "      <td>[linnaeus]</td>\n",
       "      <td>1760</td>\n",
       "      <td>[brisson]</td>\n",
       "      <td>1</td>\n",
       "      <td>2</td>\n",
       "    </tr>\n",
       "    <tr>\n",
       "      <th>3</th>\n",
       "      <td>2</td>\n",
       "      <td>RHEIFORMES</td>\n",
       "      <td>Rheidae</td>\n",
       "      <td>Rhea</td>\n",
       "      <td>pennata</td>\n",
       "      <td>SA</td>\n",
       "      <td>True</td>\n",
       "      <td>1834</td>\n",
       "      <td>[d'orbigny]</td>\n",
       "      <td>1760</td>\n",
       "      <td>[brisson]</td>\n",
       "      <td>2</td>\n",
       "      <td>2</td>\n",
       "    </tr>\n",
       "    <tr>\n",
       "      <th>4</th>\n",
       "      <td>1</td>\n",
       "      <td>APTERYGIFORMES</td>\n",
       "      <td>Apterygidae</td>\n",
       "      <td>Apteryx</td>\n",
       "      <td>australis</td>\n",
       "      <td>AU</td>\n",
       "      <td>True</td>\n",
       "      <td>1813</td>\n",
       "      <td>[shaw]</td>\n",
       "      <td>1813</td>\n",
       "      <td>[shaw]</td>\n",
       "      <td>1</td>\n",
       "      <td>5</td>\n",
       "    </tr>\n",
       "    <tr>\n",
       "      <th>5</th>\n",
       "      <td>2</td>\n",
       "      <td>APTERYGIFORMES</td>\n",
       "      <td>Apterygidae</td>\n",
       "      <td>Apteryx</td>\n",
       "      <td>mantelli</td>\n",
       "      <td>AU</td>\n",
       "      <td>True</td>\n",
       "      <td>1852</td>\n",
       "      <td>[bartlett]</td>\n",
       "      <td>1813</td>\n",
       "      <td>[shaw]</td>\n",
       "      <td>3</td>\n",
       "      <td>5</td>\n",
       "    </tr>\n",
       "    <tr>\n",
       "      <th>6</th>\n",
       "      <td>3</td>\n",
       "      <td>APTERYGIFORMES</td>\n",
       "      <td>Apterygidae</td>\n",
       "      <td>Apteryx</td>\n",
       "      <td>rowi</td>\n",
       "      <td>AU</td>\n",
       "      <td>True</td>\n",
       "      <td>2003</td>\n",
       "      <td>[tennyson, palma, robertson, worthy, gill bj]</td>\n",
       "      <td>1813</td>\n",
       "      <td>[shaw]</td>\n",
       "      <td>5</td>\n",
       "      <td>5</td>\n",
       "    </tr>\n",
       "    <tr>\n",
       "      <th>7</th>\n",
       "      <td>4</td>\n",
       "      <td>APTERYGIFORMES</td>\n",
       "      <td>Apterygidae</td>\n",
       "      <td>Apteryx</td>\n",
       "      <td>owenii</td>\n",
       "      <td>AU</td>\n",
       "      <td>True</td>\n",
       "      <td>1847</td>\n",
       "      <td>[gould]</td>\n",
       "      <td>1813</td>\n",
       "      <td>[shaw]</td>\n",
       "      <td>2</td>\n",
       "      <td>5</td>\n",
       "    </tr>\n",
       "    <tr>\n",
       "      <th>8</th>\n",
       "      <td>5</td>\n",
       "      <td>APTERYGIFORMES</td>\n",
       "      <td>Apterygidae</td>\n",
       "      <td>Apteryx</td>\n",
       "      <td>haastii</td>\n",
       "      <td>AU</td>\n",
       "      <td>True</td>\n",
       "      <td>1872</td>\n",
       "      <td>[potts]</td>\n",
       "      <td>1813</td>\n",
       "      <td>[shaw]</td>\n",
       "      <td>4</td>\n",
       "      <td>5</td>\n",
       "    </tr>\n",
       "    <tr>\n",
       "      <th>9</th>\n",
       "      <td>1</td>\n",
       "      <td>CASUARIIFORMES</td>\n",
       "      <td>Casuariidae</td>\n",
       "      <td>Casuarius</td>\n",
       "      <td>casuarius</td>\n",
       "      <td>AU</td>\n",
       "      <td>False</td>\n",
       "      <td>1758</td>\n",
       "      <td>[linnaeus]</td>\n",
       "      <td>1760</td>\n",
       "      <td>[brisson]</td>\n",
       "      <td>1</td>\n",
       "      <td>3</td>\n",
       "    </tr>\n",
       "    <tr>\n",
       "      <th>10</th>\n",
       "      <td>2</td>\n",
       "      <td>CASUARIIFORMES</td>\n",
       "      <td>Casuariidae</td>\n",
       "      <td>Casuarius</td>\n",
       "      <td>bennetti</td>\n",
       "      <td>AU</td>\n",
       "      <td>True</td>\n",
       "      <td>1857</td>\n",
       "      <td>[gould]</td>\n",
       "      <td>1760</td>\n",
       "      <td>[brisson]</td>\n",
       "      <td>2</td>\n",
       "      <td>3</td>\n",
       "    </tr>\n",
       "    <tr>\n",
       "      <th>11</th>\n",
       "      <td>3</td>\n",
       "      <td>CASUARIIFORMES</td>\n",
       "      <td>Casuariidae</td>\n",
       "      <td>Casuarius</td>\n",
       "      <td>unappendiculatus</td>\n",
       "      <td>AU</td>\n",
       "      <td>True</td>\n",
       "      <td>1860</td>\n",
       "      <td>[blyth]</td>\n",
       "      <td>1760</td>\n",
       "      <td>[brisson]</td>\n",
       "      <td>3</td>\n",
       "      <td>3</td>\n",
       "    </tr>\n",
       "    <tr>\n",
       "      <th>12</th>\n",
       "      <td>1</td>\n",
       "      <td>CASUARIIFORMES</td>\n",
       "      <td>Casuariidae</td>\n",
       "      <td>Dromaius</td>\n",
       "      <td>novaehollandiae</td>\n",
       "      <td>AU</td>\n",
       "      <td>False</td>\n",
       "      <td>1790</td>\n",
       "      <td>[latham]</td>\n",
       "      <td>1816</td>\n",
       "      <td>[vieillot]</td>\n",
       "      <td>1</td>\n",
       "      <td>1</td>\n",
       "    </tr>\n",
       "    <tr>\n",
       "      <th>13</th>\n",
       "      <td>1</td>\n",
       "      <td>TINAMIFORMES</td>\n",
       "      <td>Tinamidae</td>\n",
       "      <td>Tinamus</td>\n",
       "      <td>tao</td>\n",
       "      <td>SA</td>\n",
       "      <td>True</td>\n",
       "      <td>1815</td>\n",
       "      <td>[temminck]</td>\n",
       "      <td>1783</td>\n",
       "      <td>[hermann]</td>\n",
       "      <td>2</td>\n",
       "      <td>5</td>\n",
       "    </tr>\n",
       "    <tr>\n",
       "      <th>14</th>\n",
       "      <td>2</td>\n",
       "      <td>TINAMIFORMES</td>\n",
       "      <td>Tinamidae</td>\n",
       "      <td>Tinamus</td>\n",
       "      <td>solitarius</td>\n",
       "      <td>SA</td>\n",
       "      <td>False</td>\n",
       "      <td>1819</td>\n",
       "      <td>[vieillot]</td>\n",
       "      <td>1783</td>\n",
       "      <td>[hermann]</td>\n",
       "      <td>3</td>\n",
       "      <td>5</td>\n",
       "    </tr>\n",
       "    <tr>\n",
       "      <th>15</th>\n",
       "      <td>3</td>\n",
       "      <td>TINAMIFORMES</td>\n",
       "      <td>Tinamidae</td>\n",
       "      <td>Tinamus</td>\n",
       "      <td>osgoodi</td>\n",
       "      <td>SA</td>\n",
       "      <td>True</td>\n",
       "      <td>1949</td>\n",
       "      <td>[conover]</td>\n",
       "      <td>1783</td>\n",
       "      <td>[hermann]</td>\n",
       "      <td>5</td>\n",
       "      <td>5</td>\n",
       "    </tr>\n",
       "    <tr>\n",
       "      <th>16</th>\n",
       "      <td>4</td>\n",
       "      <td>TINAMIFORMES</td>\n",
       "      <td>Tinamidae</td>\n",
       "      <td>Tinamus</td>\n",
       "      <td>major</td>\n",
       "      <td>MA SA</td>\n",
       "      <td>False</td>\n",
       "      <td>1789</td>\n",
       "      <td>[gmelin jf]</td>\n",
       "      <td>1783</td>\n",
       "      <td>[hermann]</td>\n",
       "      <td>1</td>\n",
       "      <td>5</td>\n",
       "    </tr>\n",
       "    <tr>\n",
       "      <th>17</th>\n",
       "      <td>5</td>\n",
       "      <td>TINAMIFORMES</td>\n",
       "      <td>Tinamidae</td>\n",
       "      <td>Tinamus</td>\n",
       "      <td>guttatus</td>\n",
       "      <td>SA</td>\n",
       "      <td>True</td>\n",
       "      <td>1863</td>\n",
       "      <td>[pelzeln]</td>\n",
       "      <td>1783</td>\n",
       "      <td>[hermann]</td>\n",
       "      <td>4</td>\n",
       "      <td>5</td>\n",
       "    </tr>\n",
       "    <tr>\n",
       "      <th>18</th>\n",
       "      <td>1</td>\n",
       "      <td>TINAMIFORMES</td>\n",
       "      <td>Tinamidae</td>\n",
       "      <td>Nothocercus</td>\n",
       "      <td>bonapartei</td>\n",
       "      <td>MA SA</td>\n",
       "      <td>False</td>\n",
       "      <td>1867</td>\n",
       "      <td>[gray gr]</td>\n",
       "      <td>1856</td>\n",
       "      <td>[bonaparte]</td>\n",
       "      <td>2</td>\n",
       "      <td>3</td>\n",
       "    </tr>\n",
       "    <tr>\n",
       "      <th>19</th>\n",
       "      <td>2</td>\n",
       "      <td>TINAMIFORMES</td>\n",
       "      <td>Tinamidae</td>\n",
       "      <td>Nothocercus</td>\n",
       "      <td>julius</td>\n",
       "      <td>SA</td>\n",
       "      <td>False</td>\n",
       "      <td>1854</td>\n",
       "      <td>[bonaparte]</td>\n",
       "      <td>1856</td>\n",
       "      <td>[bonaparte]</td>\n",
       "      <td>1</td>\n",
       "      <td>3</td>\n",
       "    </tr>\n",
       "  </tbody>\n",
       "</table>\n",
       "</div>"
      ],
      "text/plain": [
       "    Rank             Order         Family        Genus           Species  \\\n",
       "0      1  STRUTHIONIFORMES  Struthionidae     Struthio           camelus   \n",
       "1      2  STRUTHIONIFORMES  Struthionidae     Struthio     molybdophanes   \n",
       "2      1        RHEIFORMES        Rheidae         Rhea         americana   \n",
       "3      2        RHEIFORMES        Rheidae         Rhea           pennata   \n",
       "4      1    APTERYGIFORMES    Apterygidae      Apteryx         australis   \n",
       "5      2    APTERYGIFORMES    Apterygidae      Apteryx          mantelli   \n",
       "6      3    APTERYGIFORMES    Apterygidae      Apteryx              rowi   \n",
       "7      4    APTERYGIFORMES    Apterygidae      Apteryx            owenii   \n",
       "8      5    APTERYGIFORMES    Apterygidae      Apteryx           haastii   \n",
       "9      1    CASUARIIFORMES    Casuariidae    Casuarius         casuarius   \n",
       "10     2    CASUARIIFORMES    Casuariidae    Casuarius          bennetti   \n",
       "11     3    CASUARIIFORMES    Casuariidae    Casuarius  unappendiculatus   \n",
       "12     1    CASUARIIFORMES    Casuariidae     Dromaius   novaehollandiae   \n",
       "13     1      TINAMIFORMES      Tinamidae      Tinamus               tao   \n",
       "14     2      TINAMIFORMES      Tinamidae      Tinamus        solitarius   \n",
       "15     3      TINAMIFORMES      Tinamidae      Tinamus           osgoodi   \n",
       "16     4      TINAMIFORMES      Tinamidae      Tinamus             major   \n",
       "17     5      TINAMIFORMES      Tinamidae      Tinamus          guttatus   \n",
       "18     1      TINAMIFORMES      Tinamidae  Nothocercus        bonapartei   \n",
       "19     2      TINAMIFORMES      Tinamidae  Nothocercus            julius   \n",
       "\n",
       "   BreedRegion  OrigG  SDate                                       SAuthors  \\\n",
       "0           AF   True   1758                                     [linnaeus]   \n",
       "1           AF   True   1883                                    [reichenow]   \n",
       "2           SA  False   1758                                     [linnaeus]   \n",
       "3           SA   True   1834                                    [d'orbigny]   \n",
       "4           AU   True   1813                                         [shaw]   \n",
       "5           AU   True   1852                                     [bartlett]   \n",
       "6           AU   True   2003  [tennyson, palma, robertson, worthy, gill bj]   \n",
       "7           AU   True   1847                                        [gould]   \n",
       "8           AU   True   1872                                        [potts]   \n",
       "9           AU  False   1758                                     [linnaeus]   \n",
       "10          AU   True   1857                                        [gould]   \n",
       "11          AU   True   1860                                        [blyth]   \n",
       "12          AU  False   1790                                       [latham]   \n",
       "13          SA   True   1815                                     [temminck]   \n",
       "14          SA  False   1819                                     [vieillot]   \n",
       "15          SA   True   1949                                      [conover]   \n",
       "16       MA SA  False   1789                                    [gmelin jf]   \n",
       "17          SA   True   1863                                      [pelzeln]   \n",
       "18       MA SA  False   1867                                      [gray gr]   \n",
       "19          SA  False   1854                                    [bonaparte]   \n",
       "\n",
       "    GDate     GAuthors  DateRank  SpG  \n",
       "0    1758   [linnaeus]         1    2  \n",
       "1    1758   [linnaeus]         2    2  \n",
       "2    1760    [brisson]         1    2  \n",
       "3    1760    [brisson]         2    2  \n",
       "4    1813       [shaw]         1    5  \n",
       "5    1813       [shaw]         3    5  \n",
       "6    1813       [shaw]         5    5  \n",
       "7    1813       [shaw]         2    5  \n",
       "8    1813       [shaw]         4    5  \n",
       "9    1760    [brisson]         1    3  \n",
       "10   1760    [brisson]         2    3  \n",
       "11   1760    [brisson]         3    3  \n",
       "12   1816   [vieillot]         1    1  \n",
       "13   1783    [hermann]         2    5  \n",
       "14   1783    [hermann]         3    5  \n",
       "15   1783    [hermann]         5    5  \n",
       "16   1783    [hermann]         1    5  \n",
       "17   1783    [hermann]         4    5  \n",
       "18   1856  [bonaparte]         2    3  \n",
       "19   1856  [bonaparte]         1    3  "
      ]
     },
     "execution_count": 605,
     "metadata": {},
     "output_type": "execute_result"
    }
   ],
   "source": [
    "df.head(20)"
   ]
  },
  {
   "cell_type": "code",
   "execution_count": 429,
   "metadata": {
    "collapsed": true
   },
   "outputs": [],
   "source": [
    "# Requires Raw Data\n",
    "\n",
    "def authorCounts(data):\n",
    "    SpAuths = data['SAuthors']\n",
    "    GeAuths = data.groupby(['Genus'])['GAuthors'].unique()\n",
    "    SpAuths = [authorSplit(e) for e in SpAuths]\n",
    "    GeAuths = [authorSplit(e[0]) for e in GeAuths]\n",
    "    \n",
    "    def unlistAuthors(AList):\n",
    "        ulAuths = []\n",
    "        for lst in AList:\n",
    "            for n in lst:\n",
    "                ulAuths.append(n)\n",
    "        ulAuths = pd.Series(ulAuths)\n",
    "        ulAuths = ulAuths.value_counts()\n",
    "        \n",
    "        return ulAuths\n",
    "    \n",
    "    SpAuths = unlistAuthors(SpAuths)\n",
    "    SpAuths.name = 'SpAuthored'\n",
    "    GeAuths = unlistAuthors(GeAuths)\n",
    "    GeAuths.name = 'GenAuthored'\n",
    "    toRet = pd.concat([GeAuths, SpAuths], axis = 'columns')\n",
    "    toRet.fillna(0, inplace  = True)\n",
    "    for c in toRet:\n",
    "        toRet[c] = toRet[c].astype(int)\n",
    "    \n",
    "    return toRet"
   ]
  },
  {
   "cell_type": "code",
   "execution_count": null,
   "metadata": {
    "collapsed": true
   },
   "outputs": [],
   "source": [
    "cts = authorCounts(raw)\n",
    "#cts.to_csv('authorship.csv')\n",
    "spg = df.groupby(['SpG'])['Genus'].unique()\n",
    "spg = spg.apply(len)\n",
    "spa = cts['SpAuthored'].value_counts()\n",
    "gpa = cts['GenAuthored'].value_counts()\n",
    "\n",
    "spg = ('Species', 'Genus', spg)\n",
    "spa = ('Species', 'Author', spa)\n",
    "gpa = ('Genera', 'Author', gpa)"
   ]
  },
  {
   "cell_type": "markdown",
   "metadata": {},
   "source": [
    "inspect module"
   ]
  },
  {
   "cell_type": "code",
   "execution_count": 534,
   "metadata": {
    "collapsed": true
   },
   "outputs": [],
   "source": [
    "def countPlotter(x,y,log = False):\n",
    "    xticks = range(1,(int(max(y)/100)+1)*100+1,100)\n",
    "    yticks = range(1,(int(max(x)/100)+1)*100+1, 25)\n",
    "    \n",
    "    if log:\n",
    "        x = np.log(x)\n",
    "        y = np.log(y)\n",
    "        xticks = [np.log(t) for t in  xticks]\n",
    "        yticks = [np.log(t) for t in yticks]\n",
    "    plt.scatter(x,y)\n",
    "    for t in xticks:\n",
    "        plt.axhline((t), alpha = .1)\n",
    "    for t in yticks:\n",
    "        plt.axvline(t, alpha = .1)\n",
    "\n",
    "def countPlotter2(x,y,rt = False):\n",
    "    xticks = range(1,(int(max(y)/100)+1)*100+1,100)\n",
    "    yticks = range(1,(int(max(x)/100)+1)*100+1, 25)\n",
    "    if log:\n",
    "        x = x**.25\n",
    "        y = y**.25\n",
    "        xticks = [(t)**.25 for t in  xticks]\n",
    "        yticks = [(t)**.25 for t in yticks]\n",
    "    plt.scatter(x,y)\n",
    "    for t in xticks:\n",
    "        plt.axhline((t), alpha = .1)\n",
    "    for t in yticks:\n",
    "        plt.axvline(t, alpha = .1)"
   ]
  },
  {
   "cell_type": "code",
   "execution_count": 533,
   "metadata": {},
   "outputs": [
    {
     "data": {
      "image/png": "[encoded data removed]",
      "text/plain": [
       "<matplotlib.figure.Figure at 0x24212636400>"
      ]
     },
     "metadata": {},
     "output_type": "display_data"
    }
   ],
   "source": [
    "plt.figure(figsize = (10,10))\n",
    "p = 0\n",
    "for d in [spg, spa, gpa]:\n",
    "    for log in [False, True]:\n",
    "        p += 1\n",
    "        plt.subplot(3,2,p)\n",
    "        countPlotter(d[2].index+1, d[2].values, log)\n",
    "        yl = '#' + d[1]\n",
    "        xl = d[0] + '/' + d[1]\n",
    "        if log:\n",
    "            xl = 'log('+xl+')'\n",
    "            yl = 'log('+yl+')'\n",
    "        plt.xlabel(xl)\n",
    "        plt.ylabel(yl)\n",
    "plt.tight_layout()"
   ]
  },
  {
   "cell_type": "code",
   "execution_count": 536,
   "metadata": {},
   "outputs": [
    {
     "data": {
      "image/png": "[encoded data removed]",
      "text/plain": [
       "<matplotlib.figure.Figure at 0x242128be518>"
      ]
     },
     "metadata": {},
     "output_type": "display_data"
    }
   ],
   "source": [
    "plt.figure(figsize = (10,10))\n",
    "p = 0\n",
    "for d in [spg, spa, gpa]:\n",
    "    for log in [False, True]:\n",
    "        p += 1\n",
    "        plt.subplot(3,2,p)\n",
    "        countPlotter2(d[2].index, d[2].values, log)\n",
    "        yl = '#' + d[1]\n",
    "        xl = d[0] + '/' + d[1]\n",
    "        if log:\n",
    "            xl = xl+'^(1/4)'\n",
    "            yl = yl+'^(1/4)'\n",
    "        plt.xlabel(xl)\n",
    "        plt.ylabel(yl)\n",
    "plt.tight_layout()"
   ]
  },
  {
   "cell_type": "markdown",
   "metadata": {},
   "source": [
    "values = number of authors = Y  \n",
    "index = species described = X"
   ]
  },
  {
   "cell_type": "code",
   "execution_count": 106,
   "metadata": {
    "collapsed": true
   },
   "outputs": [],
   "source": [
    "df2 = pd.DataFrame(df.groupby(['SpG','Rank', 'DateRank',])['Species'].count())"
   ]
  },
  {
   "cell_type": "code",
   "execution_count": 556,
   "metadata": {},
   "outputs": [
    {
     "data": {
      "text/plain": [
       "902"
      ]
     },
     "execution_count": 556,
     "metadata": {},
     "output_type": "execute_result"
    }
   ],
   "source": [
    "df2.head().loc[(1,1,1), 'Species']"
   ]
  },
  {
   "cell_type": "code",
   "execution_count": 578,
   "metadata": {},
   "outputs": [
    {
     "data": {
      "text/plain": [
       "[0, 0]"
      ]
     },
     "execution_count": 578,
     "metadata": {},
     "output_type": "execute_result"
    }
   ],
   "source": [
    "list(np.zeros(2, dtype = int))"
   ]
  },
  {
   "cell_type": "code",
   "execution_count": 582,
   "metadata": {},
   "outputs": [
    {
     "data": {
      "text/plain": [
       "{1: {1: [902]},\n",
       " 2: {1: [296, 104], 2: [120, 280]},\n",
       " 3: {1: [127, 49, 47], 2: [56, 88, 79], 3: [57, 83, 83]},\n",
       " 4: {1: [81, 44, 27, 19],\n",
       "  2: [32, 49, 42, 48],\n",
       "  3: [37, 34, 55, 45],\n",
       "  4: [43, 35, 47, 46]},\n",
       " 5: {1: [36, 26, 25, 13, 10],\n",
       "  2: [24, 24, 17, 22, 23],\n",
       "  3: [22, 16, 20, 21, 31],\n",
       "  4: [27, 23, 22, 22, 16],\n",
       "  5: [13, 19, 20, 36, 22]},\n",
       " 6: {1: [25, 16, 18, 13, 4, 12],\n",
       "  2: [14, 14, 18, 18, 13, 11],\n",
       "  3: [21, 11, 15, 7, 16, 18],\n",
       "  4: [13, 15, 11, 19, 16, 14],\n",
       "  5: [17, 11, 15, 17, 20, 8],\n",
       "  6: [14, 16, 11, 14, 16, 17]},\n",
       " 7: {1: [19, 6, 8, 5, 5, 5, 8],\n",
       "  2: [6, 7, 9, 6, 8, 7, 13],\n",
       "  3: [6, 8, 8, 11, 11, 7, 5],\n",
       "  4: [6, 9, 6, 6, 9, 9, 11],\n",
       "  5: [13, 9, 4, 8, 6, 10, 6],\n",
       "  6: [12, 8, 7, 10, 8, 3, 8],\n",
       "  7: [7, 4, 10, 8, 9, 14, 4]},\n",
       " 8: {1: [14, 7, 5, 5, 5, 4, 3, 1],\n",
       "  2: [8, 5, 7, 4, 9, 7, 2, 2],\n",
       "  3: [4, 5, 9, 3, 3, 5, 7, 8],\n",
       "  4: [8, 2, 2, 8, 7, 4, 6, 7],\n",
       "  5: [3, 2, 5, 6, 7, 6, 6, 9],\n",
       "  6: [7, 7, 5, 5, 6, 3, 6, 5],\n",
       "  7: [6, 4, 7, 6, 3, 7, 5, 6],\n",
       "  8: [6, 7, 4, 5, 4, 4, 8, 6]},\n",
       " 9: {1: [8, 5, 7, 3, 5, 2, 2, 2, 1],\n",
       "  2: [7, 3, 4, 3, 1, 8, 2, 4, 3],\n",
       "  3: [8, 4, 5, 5, 2, 2, 1, 3, 5],\n",
       "  4: [9, 2, 3, 2, 6, 3, 4, 4, 2],\n",
       "  5: [1, 5, 6, 4, 3, 2, 5, 3, 6],\n",
       "  6: [1, 6, 4, 3, 8, 3, 4, 4, 2],\n",
       "  7: [2, 3, 3, 4, 9, 3, 2, 4, 5],\n",
       "  8: [4, 2, 3, 3, 3, 8, 5, 5, 2],\n",
       "  9: [4, 2, 2, 3, 4, 2, 7, 3, 8]},\n",
       " 10: {1: [6, 4, 3, 6, 2, 1, 1, 2, 1, 1],\n",
       "  2: [5, 3, 2, 1, 1, 1, 4, 3, 3, 4],\n",
       "  3: [1, 3, 1, 3, 3, 2, 5, 4, 3, 2],\n",
       "  4: [2, 4, 1, 4, 2, 2, 3, 3, 3, 3],\n",
       "  5: [5, 1, 3, 5, 7, 1, 3, 2],\n",
       "  6: [3, 1, 2, 5, 2, 2, 6, 3, 3],\n",
       "  7: [3, 6, 3, 2, 1, 3, 4, 3, 2],\n",
       "  8: [2, 1, 4, 1, 2, 6, 1, 2, 3, 5],\n",
       "  9: [2, 4, 2, 5, 3, 3, 4, 2, 1, 1],\n",
       "  10: [5, 2, 2, 4, 3, 3, 4, 1, 3]}}"
      ]
     },
     "execution_count": 582,
     "metadata": {},
     "output_type": "execute_result"
    }
   ],
   "source": [
    "tables"
   ]
  },
  {
   "cell_type": "code",
   "execution_count": 595,
   "metadata": {},
   "outputs": [
    {
     "name": "stdout",
     "output_type": "stream",
     "text": [
      "1 0 1\n",
      "2 0 1\n",
      "2 1 2\n",
      "2 0 1\n",
      "2 1 2\n",
      "3 0 1\n",
      "3 1 2\n",
      "3 2 3\n",
      "3 0 1\n",
      "3 1 2\n",
      "3 2 3\n",
      "3 0 1\n",
      "3 1 2\n",
      "3 2 3\n",
      "4 0 1\n",
      "4 1 2\n",
      "4 2 3\n",
      "4 3 4\n",
      "4 0 1\n",
      "4 1 2\n",
      "4 2 3\n",
      "4 3 4\n",
      "4 0 1\n",
      "4 1 2\n",
      "4 2 3\n",
      "4 3 4\n",
      "4 0 1\n",
      "4 1 2\n",
      "4 2 3\n",
      "4 3 4\n",
      "5 0 1\n",
      "5 1 2\n",
      "5 2 3\n",
      "5 3 4\n",
      "5 4 5\n",
      "5 0 1\n",
      "5 1 2\n",
      "5 2 3\n",
      "5 3 4\n",
      "5 4 5\n",
      "5 0 1\n",
      "5 1 2\n",
      "5 2 3\n",
      "5 3 4\n",
      "5 4 5\n",
      "5 0 1\n",
      "5 1 2\n",
      "5 2 3\n",
      "5 3 4\n",
      "5 4 5\n",
      "5 0 1\n",
      "5 1 2\n",
      "5 2 3\n",
      "5 3 4\n",
      "5 4 5\n",
      "6 0 1\n",
      "6 1 2\n",
      "6 2 3\n",
      "6 3 4\n",
      "6 4 5\n",
      "6 5 6\n",
      "6 0 1\n",
      "6 1 2\n",
      "6 2 3\n",
      "6 3 4\n",
      "6 4 5\n",
      "6 5 6\n",
      "6 0 1\n",
      "6 1 2\n",
      "6 2 3\n",
      "6 3 4\n",
      "6 4 5\n",
      "6 5 6\n",
      "6 0 1\n",
      "6 1 2\n",
      "6 2 3\n",
      "6 3 4\n",
      "6 4 5\n",
      "6 5 6\n",
      "6 0 1\n",
      "6 1 2\n",
      "6 2 3\n",
      "6 3 4\n",
      "6 4 5\n",
      "6 5 6\n",
      "6 0 1\n",
      "6 1 2\n",
      "6 2 3\n",
      "6 3 4\n",
      "6 4 5\n",
      "6 5 6\n",
      "7 0 1\n",
      "7 1 2\n",
      "7 2 3\n",
      "7 3 4\n",
      "7 4 5\n",
      "7 5 6\n",
      "7 6 7\n",
      "7 0 1\n",
      "7 1 2\n",
      "7 2 3\n",
      "7 3 4\n",
      "7 4 5\n",
      "7 5 6\n",
      "7 6 7\n",
      "7 0 1\n",
      "7 1 2\n",
      "7 2 3\n",
      "7 3 4\n",
      "7 4 5\n",
      "7 5 6\n",
      "7 6 7\n",
      "7 0 1\n",
      "7 1 2\n",
      "7 2 3\n",
      "7 3 4\n",
      "7 4 5\n",
      "7 5 6\n",
      "7 6 7\n",
      "7 0 1\n",
      "7 1 2\n",
      "7 2 3\n",
      "7 3 4\n",
      "7 4 5\n",
      "7 5 6\n",
      "7 6 7\n",
      "7 0 1\n",
      "7 1 2\n",
      "7 2 3\n",
      "7 3 4\n",
      "7 4 5\n",
      "7 5 6\n",
      "7 6 7\n",
      "7 0 1\n",
      "7 1 2\n",
      "7 2 3\n",
      "7 3 4\n",
      "7 4 5\n",
      "7 5 6\n",
      "7 6 7\n",
      "8 0 1\n",
      "8 1 2\n",
      "8 2 3\n",
      "8 3 4\n",
      "8 4 5\n",
      "8 5 6\n",
      "8 6 7\n",
      "8 7 8\n",
      "8 0 1\n",
      "8 1 2\n",
      "8 2 3\n",
      "8 3 4\n",
      "8 4 5\n",
      "8 5 6\n",
      "8 6 7\n",
      "8 7 8\n",
      "8 0 1\n",
      "8 1 2\n",
      "8 2 3\n",
      "8 3 4\n",
      "8 4 5\n",
      "8 5 6\n",
      "8 6 7\n",
      "8 7 8\n",
      "8 0 1\n",
      "8 1 2\n",
      "8 2 3\n",
      "8 3 4\n",
      "8 4 5\n",
      "8 5 6\n",
      "8 6 7\n",
      "8 7 8\n",
      "8 0 1\n",
      "8 1 2\n",
      "8 2 3\n",
      "8 3 4\n",
      "8 4 5\n",
      "8 5 6\n",
      "8 6 7\n",
      "8 7 8\n",
      "8 0 1\n",
      "8 1 2\n",
      "8 2 3\n",
      "8 3 4\n",
      "8 4 5\n",
      "8 5 6\n",
      "8 6 7\n",
      "8 7 8\n",
      "8 0 1\n",
      "8 1 2\n",
      "8 2 3\n",
      "8 3 4\n",
      "8 4 5\n",
      "8 5 6\n",
      "8 6 7\n",
      "8 7 8\n",
      "8 0 1\n",
      "8 1 2\n",
      "8 2 3\n",
      "8 3 4\n",
      "8 4 5\n",
      "8 5 6\n",
      "8 6 7\n",
      "8 7 8\n",
      "9 0 1\n",
      "9 1 2\n",
      "9 2 3\n",
      "9 3 4\n",
      "9 4 5\n",
      "9 5 6\n",
      "9 6 7\n",
      "9 7 8\n",
      "9 8 9\n",
      "9 0 1\n",
      "9 1 2\n",
      "9 2 3\n",
      "9 3 4\n",
      "9 4 5\n",
      "9 5 6\n",
      "9 6 7\n",
      "9 7 8\n",
      "9 8 9\n",
      "9 0 1\n",
      "9 1 2\n",
      "9 2 3\n",
      "9 3 4\n",
      "9 4 5\n",
      "9 5 6\n",
      "9 6 7\n",
      "9 7 8\n",
      "9 8 9\n",
      "9 0 1\n",
      "9 1 2\n",
      "9 2 3\n",
      "9 3 4\n",
      "9 4 5\n",
      "9 5 6\n",
      "9 6 7\n",
      "9 7 8\n",
      "9 8 9\n",
      "9 0 1\n",
      "9 1 2\n",
      "9 2 3\n",
      "9 3 4\n",
      "9 4 5\n",
      "9 5 6\n",
      "9 6 7\n",
      "9 7 8\n",
      "9 8 9\n",
      "9 0 1\n",
      "9 1 2\n",
      "9 2 3\n",
      "9 3 4\n",
      "9 4 5\n",
      "9 5 6\n",
      "9 6 7\n",
      "9 7 8\n",
      "9 8 9\n",
      "9 0 1\n",
      "9 1 2\n",
      "9 2 3\n",
      "9 3 4\n",
      "9 4 5\n",
      "9 5 6\n",
      "9 6 7\n",
      "9 7 8\n",
      "9 8 9\n",
      "9 0 1\n",
      "9 1 2\n",
      "9 2 3\n",
      "9 3 4\n",
      "9 4 5\n",
      "9 5 6\n",
      "9 6 7\n",
      "9 7 8\n",
      "9 8 9\n",
      "9 0 1\n",
      "9 1 2\n",
      "9 2 3\n",
      "9 3 4\n",
      "9 4 5\n",
      "9 5 6\n",
      "9 6 7\n",
      "9 7 8\n",
      "9 8 9\n",
      "10 0 1\n",
      "10 1 2\n",
      "10 2 3\n",
      "10 3 4\n",
      "10 4 5\n",
      "10 5 6\n",
      "10 6 7\n",
      "10 7 8\n",
      "10 8 9\n",
      "10 9 10\n",
      "10 0 1\n",
      "10 1 2\n",
      "10 2 3\n",
      "10 3 4\n",
      "10 4 5\n",
      "10 5 6\n",
      "10 6 7\n",
      "10 7 8\n",
      "10 8 9\n",
      "10 9 10\n",
      "10 0 1\n",
      "10 1 2\n",
      "10 2 3\n",
      "10 3 4\n",
      "10 4 5\n",
      "10 5 6\n",
      "10 6 7\n",
      "10 7 8\n",
      "10 8 9\n",
      "10 9 10\n",
      "10 0 1\n",
      "10 1 2\n",
      "10 2 3\n",
      "10 3 4\n",
      "10 4 5\n",
      "10 5 6\n",
      "10 6 7\n",
      "10 7 8\n",
      "10 8 9\n",
      "10 9 10\n",
      "10 0 1\n",
      "10 1 2\n",
      "10 2 3\n",
      "10 3 4\n",
      "10 4 5\n",
      "10 5 7\n",
      "HERE\n",
      "10 7 9\n",
      "HERE\n",
      "10 9 10\n",
      "10 0 1\n",
      "10 1 2\n",
      "10 2 4\n",
      "HERE\n",
      "10 4 5\n",
      "10 5 6\n",
      "10 6 7\n",
      "10 7 8\n",
      "10 8 9\n",
      "10 9 10\n",
      "10 0 2\n",
      "HERE\n",
      "10 2 3\n",
      "10 3 4\n",
      "10 4 5\n",
      "10 5 6\n",
      "10 6 7\n",
      "10 7 8\n",
      "10 8 9\n",
      "10 9 10\n",
      "10 0 1\n",
      "10 1 2\n",
      "10 2 3\n",
      "10 3 4\n",
      "10 4 5\n",
      "10 5 6\n",
      "10 6 7\n",
      "10 7 8\n",
      "10 8 9\n",
      "10 9 10\n",
      "10 0 1\n",
      "10 1 2\n",
      "10 2 3\n",
      "10 3 4\n",
      "10 4 5\n",
      "10 5 6\n",
      "10 6 7\n",
      "10 7 8\n",
      "10 8 9\n",
      "10 9 10\n",
      "10 0 1\n",
      "10 1 2\n",
      "10 2 3\n",
      "10 3 5\n",
      "HERE\n",
      "10 5 6\n",
      "10 6 7\n",
      "10 7 8\n",
      "10 8 9\n",
      "10 9 10\n"
     ]
    }
   ],
   "source": [
    "tables = {}\n",
    "currentSPG = 0\n",
    "currentRank = 0\n",
    "prevDR = 0\n",
    "for idx in df2.index:\n",
    "    if idx[0] >10:\n",
    "        break\n",
    "        \n",
    "    spg = idx[0]\n",
    "    rank = idx[1]\n",
    "    dRank = idx[2]\n",
    "    sp = df2.loc[idx, 'Species']\n",
    "    \n",
    "    if spg != currentSPG:\n",
    "        tables[spg] = {}\n",
    "        currentSPG = spg\n",
    "        tables[spg][rank] = []\n",
    "        currentRank = 1\n",
    "        prevDR = 0\n",
    "    if rank != currentRank: \n",
    "        tables[spg][rank] = []\n",
    "        currentRank = rank\n",
    "        prevDR = 0\n",
    "    print(spg, prevDR, dRank)\n",
    "    if prevDR +1 != dRank:\n",
    "        for i in range(dRank-prevDR-1):\n",
    "            print('HERE')\n",
    "            tables[spg][rank].append(0)\n",
    "    \n",
    "    tables[spg][rank].append(sp)\n",
    "    prevDR = dRank\n",
    "\n",
    "    tables    "
   ]
  },
  {
   "cell_type": "code",
   "execution_count": 561,
   "metadata": {
    "collapsed": true
   },
   "outputs": [],
   "source": [
    "t = tables[3]"
   ]
  },
  {
   "cell_type": "code",
   "execution_count": 606,
   "metadata": {
    "collapsed": true
   },
   "outputs": [],
   "source": [
    "import seaborn as sns\n",
    "from matplotlib import gridspec"
   ]
  },
  {
   "cell_type": "code",
   "execution_count": 675,
   "metadata": {
    "scrolled": false
   },
   "outputs": [
    {
     "data": {
      "text/plain": [
       "Text(0.009,0,'Proportion\\n of\\n species')"
      ]
     },
     "execution_count": 675,
     "metadata": {},
     "output_type": "execute_result"
    },
    {
     "data": {
      "image/png": "[encoded data removed]",
      "text/plain": [
       "<matplotlib.figure.Figure at 0x2426773a2b0>"
      ]
     },
     "metadata": {},
     "output_type": "display_data"
    }
   ],
   "source": [
    "locs = {1:(1,1),2:(1,2),3:(1,4),4:(1,7),5:(1,11),6:(1,16),7:(7,15),8:(6,1),9:(15,1),10:(14,12)}\n",
    "plt.figure(figsize = (20,20))\n",
    "i = 0\n",
    "for k in tables:\n",
    "    i+=1\n",
    "    \n",
    "    temp = pd.DataFrame(tables[k])\n",
    "    temp.index = range(1,len(temp)+1)\n",
    "    for c in temp:\n",
    "        temp[c] = [e/temp[c].sum()/(1/len(temp)) for e in temp[c]]\n",
    "    where = locs[i]\n",
    "    pltNum = where[0]*21+where[1]\n",
    "    plt.subplot2grid((23,21),(where[0]-1, where[1]-1),colspan = i, rowspan = i)\n",
    "    sns.heatmap(temp, annot = True, cmap = 'coolwarm', center = 1,square = True, cbar = False)\n",
    "plt.subplot2grid((23,21),(5,8), colspan = 5, rowspan = 5)\n",
    "\n",
    "plt.xlabel('hi')\n",
    "plt.ylabel('no')\n",
    "plt.axis('equal')\n",
    "plt.axis('off')\n",
    "plt.text(-0.05,-0.01,'species Rank', rotation = 'vertical', fontsize = 28)#, horizontalalignment = 'right')\n",
    "plt.text(-0.036,-0.08,'Date Rank', rotation = 'horizontal', fontsize = 24)#, horizontalalignment = 'left')\n",
    "plt.text(0.009,0.00,'Proportion\\n of\\n species', fontsize = 30, horizontalalignment = 'center')\n",
    "#plt.title('yup')"
   ]
  },
  {
   "cell_type": "code",
   "execution_count": 124,
   "metadata": {
    "collapsed": true
   },
   "outputs": [],
   "source": [
    "import numpy as np\n",
    "import matplotlib.pyplot as plt\n",
    "%matplotlib inline"
   ]
  },
  {
   "cell_type": "markdown",
   "metadata": {},
   "source": [
    "### Initial EDA"
   ]
  },
  {
   "cell_type": "code",
   "execution_count": 25,
   "metadata": {
    "collapsed": true
   },
   "outputs": [],
   "source": [
    "import matplotlib.pyplot as plt\n",
    "import seaborn as sns\n",
    "%matplotlib inline"
   ]
  },
  {
   "cell_type": "code",
   "execution_count": 541,
   "metadata": {
    "collapsed": true
   },
   "outputs": [],
   "source": [
    "def plotSpg(data, num):\n",
    "    df = data[data['SpG']==num]\n",
    "    row = int(num/3)+1\n",
    "    for i in range(1,num+1):\n",
    "        #plt.figure(figsize = (10,8))\n",
    "        plt.subplot(row,3,i)\n",
    "        plt.hist(df[df['Rank'] ==i]['DateRank'])\n",
    "        plt.title('Linear Rank = '+ str(i))\n",
    "        plt.xlabel('Date-Rank')\n",
    "        #plt.savefigfigfig(str(num) + '.png')\n",
    "        #plt.ylim(ymax = 130)\n",
    "        #plt.show()"
   ]
  },
  {
   "cell_type": "code",
   "execution_count": null,
   "metadata": {
    "collapsed": true
   },
   "outputs": [],
   "source": [
    "Sdfs = []\n",
    "for n in range(1,11):\n",
    "    Sdfs.append()"
   ]
  },
  {
   "cell_type": "code",
   "execution_count": 544,
   "metadata": {},
   "outputs": [
    {
     "data": {
      "image/png": "[encoded data removed]",
      "text/plain": [
       "<matplotlib.figure.Figure at 0x24213caff98>"
      ]
     },
     "metadata": {},
     "output_type": "display_data"
    }
   ],
   "source": [
    "plt.figure(figsize = (10,10))\n",
    "plotSpg(df, 10)\n",
    "plt.tight_layout()"
   ]
  },
  {
   "cell_type": "code",
   "execution_count": 41,
   "metadata": {},
   "outputs": [
    {
     "data": {
      "image/png": "[encoded data removed]",
      "text/plain": [
       "<matplotlib.figure.Figure at 0x296dae536d8>"
      ]
     },
     "metadata": {},
     "output_type": "display_data"
    }
   ],
   "source": [
    "plotSpg(df,2)"
   ]
  },
  {
   "cell_type": "code",
   "execution_count": 31,
   "metadata": {
    "scrolled": true
   },
   "outputs": [
    {
     "data": {
      "image/png": "[encoded data removed]",
      "text/plain": [
       "<matplotlib.figure.Figure at 0x296cfe28c50>"
      ]
     },
     "metadata": {},
     "output_type": "display_data"
    }
   ],
   "source": [
    "plotSpg(df, 5)"
   ]
  },
  {
   "cell_type": "code",
   "execution_count": 32,
   "metadata": {},
   "outputs": [
    {
     "data": {
      "image/png": "[encoded data removed]",
      "text/plain": [
       "<matplotlib.figure.Figure at 0x296cff7f978>"
      ]
     },
     "metadata": {},
     "output_type": "display_data"
    }
   ],
   "source": [
    "plotSpg(df, 4)"
   ]
  },
  {
   "cell_type": "code",
   "execution_count": 33,
   "metadata": {},
   "outputs": [
    {
     "data": {
      "image/png": "[encoded data removed]",
      "text/plain": [
       "<matplotlib.figure.Figure at 0x296d0109748>"
      ]
     },
     "metadata": {},
     "output_type": "display_data"
    }
   ],
   "source": [
    "plotSpg(df, 3)"
   ]
  },
  {
   "cell_type": "code",
   "execution_count": 34,
   "metadata": {},
   "outputs": [
    {
     "data": {
      "image/png": "[encoded data removed]",
      "text/plain": [
       "<matplotlib.figure.Figure at 0x296d014cbe0>"
      ]
     },
     "metadata": {},
     "output_type": "display_data"
    }
   ],
   "source": [
    "plotSpg(df, 6)"
   ]
  },
  {
   "cell_type": "markdown",
   "metadata": {},
   "source": [
    "### Next Steps"
   ]
  },
  {
   "cell_type": "markdown",
   "metadata": {},
   "source": [
    "It does look like there is some pattern to the rank-order an description date of the various taxa. The next thing to do will be to define and create metrics to more fully describe what those patterns are.  \n",
    "\n",
    "Also, next it will be important to start to standardize and investigate the distriution of authorship."
   ]
  },
  {
   "cell_type": "code",
   "execution_count": 2,
   "metadata": {},
   "outputs": [
    {
     "data": {
      "text/plain": [
       "True"
      ]
     },
     "execution_count": 2,
     "metadata": {},
     "output_type": "execute_result"
    }
   ],
   "source": [
    "caps = \"AGB\"\n",
    "caps.isupper()"
   ]
  },
  {
   "cell_type": "markdown",
   "metadata": {},
   "source": [
    "split on space"
   ]
  },
  {
   "cell_type": "code",
   "execution_count": 151,
   "metadata": {},
   "outputs": [
    {
     "name": "stdout",
     "output_type": "stream",
     "text": [
      "1150\n",
      "2587\n",
      "4552\n",
      "4553\n",
      "4554\n",
      "4555\n",
      "4958\n",
      "4959\n",
      "4960\n",
      "4961\n",
      "4962\n",
      "4963\n",
      "5104\n",
      "5105\n",
      "5703\n",
      "8125\n",
      "8126\n",
      "8127\n",
      "8128\n",
      "8998\n",
      "8999\n",
      "10285\n"
     ]
    }
   ],
   "source": [
    "for idx in df.index:\n",
    "    au = df.loc[idx,'GAuthors']\n",
    "    if au.count(' et al')>0:\n",
    "        print(idx)\n",
    "    #try:\n",
    "     #   z = au.split(',')[1]\n",
    "    #except:\n",
    "    #    print(idx)"
   ]
  },
  {
   "cell_type": "code",
   "execution_count": 45,
   "metadata": {
    "collapsed": true
   },
   "outputs": [],
   "source": [
    "for idx in df.index:\n",
    "    try:\n",
    "        df.loc[idx,'SAuth'].split(',')[1]\n",
    "    except:\n",
    "        pass\n",
    "        #print(idx)"
   ]
  },
  {
   "cell_type": "markdown",
   "metadata": {},
   "source": [
    "#### Deprecated"
   ]
  },
  {
   "cell_type": "code",
   "execution_count": 243,
   "metadata": {
    "collapsed": true
   },
   "outputs": [],
   "source": [
    "SA = raw['SAuthors']\n",
    "SAsp = pd.Series([authorSplit(e) for e in SA])\n",
    "GA = raw['GAuthors']\n",
    "GAsp = pd.Series([authorSplit(e) for e in GA])"
   ]
  },
  {
   "cell_type": "code",
   "execution_count": 244,
   "metadata": {
    "collapsed": true
   },
   "outputs": [],
   "source": [
    "sm = ['de','da','sr','la','le','jr','du','do','zu']\n",
    "bef = ['zu','du', 'la'] #Du Bus de Gisignies, La Touche, Da Silva Maia\n",
    "med = ['du', 'la'] # Barboza du Bocage, de la Llave, \n",
    "unk = ['do','le']\n",
    "post = ['jr','sr']\n",
    "test = ['da']"
   ]
  },
  {
   "cell_type": "code",
   "execution_count": 246,
   "metadata": {},
   "outputs": [
    {
     "data": {
      "text/plain": [
       "['Le Maout',\n",
       " 'Raposo do Amaral EtAl',\n",
       " 'Du Bus de Gisignies',\n",
       " 'zu Wied-Neuwied',\n",
       " 'De Roo',\n",
       " 'de la Llave',\n",
       " 'De Vis',\n",
       " 'de Sélys-Longchamps',\n",
       " 'de Filippi']"
      ]
     },
     "execution_count": 246,
     "metadata": {},
     "output_type": "execute_result"
    }
   ],
   "source": [
    "probs = []\n",
    "for idx in GAsp.index:\n",
    "    try:\n",
    "        for n in GAsp[idx]:\n",
    "            if n in sm:\n",
    "                probs.append(idx)\n",
    "    except:\n",
    "        print('whoops', idx)\n",
    "Ghard = list(raw.loc[probs,'GAuthors'].unique())\n",
    "Ghard"
   ]
  },
  {
   "cell_type": "code",
   "execution_count": 247,
   "metadata": {
    "collapsed": true
   },
   "outputs": [],
   "source": [
    "for n in Ghard:\n",
    "    if n not in hard:\n",
    "        hard.append(n)"
   ]
  },
  {
   "cell_type": "code",
   "execution_count": 255,
   "metadata": {},
   "outputs": [
    {
     "data": {
      "text/plain": [
       "['zu Wied-Neuwied',\n",
       " 'Meyer de Schauensee',\n",
       " 'Barboza du Bocage',\n",
       " 'Meyer de Schauensee',\n",
       " 'de Sélys-Longchamps',\n",
       " 'Du Bus de Gisignies',\n",
       " 'Gurney Sr',\n",
       " 'de Sparre',\n",
       " 'Gurney Jr',\n",
       " 'Xántus de Vésey',\n",
       " 'Da Silva Maia',\n",
       " 'de la Llave',\n",
       " 'de Filippi',\n",
       " 'Phelps Jr',\n",
       " 'Cardoso da Silva Novaes',\n",
       " 'Wetmore Phelps Jr',\n",
       " 'Giraud Jr',\n",
       " 'De Vis',\n",
       " 'De Roo',\n",
       " 'La Touche',\n",
       " 'Marshall JT Jr',\n",
       " 'de Tarragon',\n",
       " 'Phelps Jr',\n",
       " 'Le Maout',\n",
       " 'Raposo do Amaral']"
      ]
     },
     "execution_count": 255,
     "metadata": {},
     "output_type": "execute_result"
    }
   ],
   "source": [
    "hard"
   ]
  },
  {
   "cell_type": "code",
   "execution_count": 46,
   "metadata": {
    "collapsed": true,
    "scrolled": true
   },
   "outputs": [],
   "source": [
    "speciesTree = {}\n",
    "for o in soup.find_all('order'):\n",
    "    oname = o.find('latin_name').text\n",
    "    #print(oname)\n",
    "    speciesTree[oname] = {}\n",
    "    for f in o.find_all('family'):\n",
    "        fname = f.find('latin_name').text\n",
    "        #print(fname)\n",
    "        speciesTree[oname][fname]= {}\n",
    "        for g in f.find_all('genus'):\n",
    "            gname = g.find('latin_name').text\n",
    "            #print(gname)\n",
    "            speciesTree[oname][fname][gname] = {'GAuthority': g.find('authority').text}\n",
    "            for s in g.find_all('species'):\n",
    "                sname = s.find('latin_name').text\n",
    "                #print(sname)\n",
    "                #print(s.find('authority').text)\n",
    "                speciesTree[oname][fname][gname][sname] = {'SAuthourity': s.find('authority').text,\n",
    "                                                           'Breeding' : s.find('breeding_regions').text}"
   ]
  }
 ],
 "metadata": {
  "kernelspec": {
   "display_name": "Python 3",
   "language": "python",
   "name": "python3"
  },
  "language_info": {
   "codemirror_mode": {
    "name": "ipython",
    "version": 3
   },
   "file_extension": ".py",
   "mimetype": "text/x-python",
   "name": "python",
   "nbconvert_exporter": "python",
   "pygments_lexer": "ipython3",
   "version": "3.6.3"
  }
 },
 "nbformat": 4,
 "nbformat_minor": 2
}
