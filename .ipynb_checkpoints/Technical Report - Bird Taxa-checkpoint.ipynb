{
 "cells": [
  {
   "cell_type": "markdown",
   "metadata": {},
   "source": [
    "# Bird Taxa  \n",
    "W.P.G.Peterson\n",
    "\n",
    "### Summary\n",
    "Unlike the taxonomies of other animals, phylogenetic trees of birds give a designed order to species within a genus; species are ordered from \"least-derived\" to \"most derived.\" The simple way to envision this: the \"most-derived\" is the species which split from the evolutionary-tree most recently, and, conversely, the \"least-derived\" species split earliest (compared to the other species in the Genus.)  \n",
    "\n",
    "Functionally, these rankings are determined via branch-lengths in the phylogenetic tree. The branch-lengths are determined through molecular and genetic analysis. The specifics of molecular and genetic analysis are well beyond the scope of this investigation, however, their complexity points to a couple of assumptions:  \n",
    "\n",
    "- For the purposes of this work, I have interpreted the division of species to be fairly complete and accurate. From my (limited) understanding, the current state of our knowledge suggests that when something is defined as \"a species\" there is solid rationale for that definition. Changes are occuring with the promotion/demotion of subspecies/species, but there is greater consistency than change.  \n",
    "\n",
    "\n",
    "- The division of genera, I have interpreted to be - and recognized indications of being - more arbitrary.  \n",
    "\n",
    "Consider chairs and desks. Both are useful categories for thought and discussion. Consider the chair with attached writing surface seen in classrooms and auditoriums. That chair/desk is clearly a unique \"species\" but does not quite fit into either genera of chair or desk. The grouping of individual types into categories is clearly useful, but not always straightforward.  \n",
    "\n",
    "\n",
    "Given that the phylogeny of birds offers an order to species within each genus, there is an opportunity to look more closely at the structure of our beliefs.  \n",
    "\n",
    "I pursue this primarily in two ways:  \n",
    "\n",
    "First: Look at the relationship between the species ranking within a genus (least-to-most derived, from now on referred to as \"Rank\" or \"Sequence Rank\", with 1 denoting the least-derived and \"highest\" rank) and the order in which species were first described ( from now own referred to as \"Date Rank\", again, \"highest\" rank is 1, which would be the first described species.  \n",
    "\n",
    "Second: Look at the relationship between the distributions of species per genus, species described per author, and genera described per author."
   ]
  },
  {
   "cell_type": "markdown",
   "metadata": {},
   "source": [
    "### The Data"
   ]
  },
  {
   "cell_type": "code",
   "execution_count": 1,
   "metadata": {},
   "outputs": [
    {
     "data": {
      "text/html": [
       "<div>\n",
       "<style>\n",
       "    .dataframe thead tr:only-child th {\n",
       "        text-align: right;\n",
       "    }\n",
       "\n",
       "    .dataframe thead th {\n",
       "        text-align: left;\n",
       "    }\n",
       "\n",
       "    .dataframe tbody tr th {\n",
       "        vertical-align: top;\n",
       "    }\n",
       "</style>\n",
       "<table border=\"1\" class=\"dataframe\">\n",
       "  <thead>\n",
       "    <tr style=\"text-align: right;\">\n",
       "      <th></th>\n",
       "      <th>Rank</th>\n",
       "      <th>Order</th>\n",
       "      <th>Family</th>\n",
       "      <th>Genus</th>\n",
       "      <th>Species</th>\n",
       "      <th>BreedRegion</th>\n",
       "      <th>OrigG</th>\n",
       "      <th>SDate</th>\n",
       "      <th>SAuthors</th>\n",
       "      <th>GDate</th>\n",
       "      <th>GAuthors</th>\n",
       "      <th>DateRank</th>\n",
       "      <th>SpG</th>\n",
       "      <th>Type</th>\n",
       "    </tr>\n",
       "  </thead>\n",
       "  <tbody>\n",
       "    <tr>\n",
       "      <th>0</th>\n",
       "      <td>1</td>\n",
       "      <td>STRUTHIONIFORMES</td>\n",
       "      <td>Struthionidae</td>\n",
       "      <td>Struthio</td>\n",
       "      <td>camelus</td>\n",
       "      <td>AF</td>\n",
       "      <td>True</td>\n",
       "      <td>1758</td>\n",
       "      <td>[linnaeus]</td>\n",
       "      <td>1758</td>\n",
       "      <td>[linnaeus]</td>\n",
       "      <td>1</td>\n",
       "      <td>2</td>\n",
       "      <td>True</td>\n",
       "    </tr>\n",
       "    <tr>\n",
       "      <th>1</th>\n",
       "      <td>2</td>\n",
       "      <td>STRUTHIONIFORMES</td>\n",
       "      <td>Struthionidae</td>\n",
       "      <td>Struthio</td>\n",
       "      <td>molybdophanes</td>\n",
       "      <td>AF</td>\n",
       "      <td>True</td>\n",
       "      <td>1883</td>\n",
       "      <td>[reichenow]</td>\n",
       "      <td>1758</td>\n",
       "      <td>[linnaeus]</td>\n",
       "      <td>2</td>\n",
       "      <td>2</td>\n",
       "      <td>False</td>\n",
       "    </tr>\n",
       "    <tr>\n",
       "      <th>2</th>\n",
       "      <td>1</td>\n",
       "      <td>RHEIFORMES</td>\n",
       "      <td>Rheidae</td>\n",
       "      <td>Rhea</td>\n",
       "      <td>americana</td>\n",
       "      <td>SA</td>\n",
       "      <td>False</td>\n",
       "      <td>1758</td>\n",
       "      <td>[linnaeus]</td>\n",
       "      <td>1760</td>\n",
       "      <td>[brisson]</td>\n",
       "      <td>1</td>\n",
       "      <td>2</td>\n",
       "      <td>True</td>\n",
       "    </tr>\n",
       "    <tr>\n",
       "      <th>3</th>\n",
       "      <td>2</td>\n",
       "      <td>RHEIFORMES</td>\n",
       "      <td>Rheidae</td>\n",
       "      <td>Rhea</td>\n",
       "      <td>pennata</td>\n",
       "      <td>SA</td>\n",
       "      <td>True</td>\n",
       "      <td>1834</td>\n",
       "      <td>[d'orbigny]</td>\n",
       "      <td>1760</td>\n",
       "      <td>[brisson]</td>\n",
       "      <td>2</td>\n",
       "      <td>2</td>\n",
       "      <td>False</td>\n",
       "    </tr>\n",
       "    <tr>\n",
       "      <th>4</th>\n",
       "      <td>1</td>\n",
       "      <td>APTERYGIFORMES</td>\n",
       "      <td>Apterygidae</td>\n",
       "      <td>Apteryx</td>\n",
       "      <td>australis</td>\n",
       "      <td>AU</td>\n",
       "      <td>True</td>\n",
       "      <td>1813</td>\n",
       "      <td>[shaw]</td>\n",
       "      <td>1813</td>\n",
       "      <td>[shaw]</td>\n",
       "      <td>1</td>\n",
       "      <td>5</td>\n",
       "      <td>True</td>\n",
       "    </tr>\n",
       "  </tbody>\n",
       "</table>\n",
       "</div>"
      ],
      "text/plain": [
       "   Rank             Order         Family     Genus        Species BreedRegion  \\\n",
       "0     1  STRUTHIONIFORMES  Struthionidae  Struthio        camelus          AF   \n",
       "1     2  STRUTHIONIFORMES  Struthionidae  Struthio  molybdophanes          AF   \n",
       "2     1        RHEIFORMES        Rheidae      Rhea      americana          SA   \n",
       "3     2        RHEIFORMES        Rheidae      Rhea        pennata          SA   \n",
       "4     1    APTERYGIFORMES    Apterygidae   Apteryx      australis          AU   \n",
       "\n",
       "   OrigG  SDate     SAuthors  GDate    GAuthors  DateRank  SpG   Type  \n",
       "0   True   1758   [linnaeus]   1758  [linnaeus]         1    2   True  \n",
       "1   True   1883  [reichenow]   1758  [linnaeus]         2    2  False  \n",
       "2  False   1758   [linnaeus]   1760   [brisson]         1    2   True  \n",
       "3   True   1834  [d'orbigny]   1760   [brisson]         2    2  False  \n",
       "4   True   1813       [shaw]   1813      [shaw]         1    5   True  "
      ]
     },
     "execution_count": 1,
     "metadata": {},
     "output_type": "execute_result"
    }
   ],
   "source": [
    "import pandas as pd\n",
    "import matplotlib.pyplot as plt\n",
    "import seaborn as sns\n",
    "import numpy as np\n",
    "%matplotlib inline\n",
    "\n",
    "import pickle\n",
    "with open('df.pickle', 'rb') as f: # Pickle file created by running code in Data.py\n",
    "        df = pickle.load(f) \n",
    "df.head()"
   ]
  },
  {
   "cell_type": "markdown",
   "metadata": {},
   "source": [
    "The collected data contains the the following information. All taken from the **IOC's 8.1** bird list accessed from http://www.worldbirdnames.org/master_ioc-names_xml.xml.  \n",
    "\n",
    "Scraping occured with a simple request, and tabularization occured with Beautiful Soup. Data processing information can be found in `Data.py`\n",
    "\n",
    "1. \"Rank\" - maybe better called \"Sequence\" - the order in which the species appears in the IOC's 8.1 list. This rank/sequence is supposed to start with the \"least derived\" species in the Genus, and end with the \"most derived\" species in the Genus.  \n",
    "2. \"Order\" - Order to which the species belongs  \n",
    "3. \"Family\" - Family to which the species belongs  \n",
    "4. \"Genus\" - Genus to which the species belongs  \n",
    "5. \"Species\" - specific epithet  \n",
    "6. \"BreedRegion\" - Part of the world in which the species is known to breed  \n",
    "7. \"OrigG\" - Whether or not the species is currently part of the Genus in which it was first described  \n",
    "8. \"SDate\" - The date of first description of the species\n",
    "9. \"SDate\" - A list of the authors credited with the species description  \n",
    "10. \"GDate\" - The date of description for the Genus  \n",
    "11. \"GAuthors\" - A list of the authors credited with the Genus description  \n",
    "12. \"DateRank\" - The order in which the species was described (calculated from \"SDate\"). In the event of a tie, both species are awarded the higher rank. E.G. 1,2,3,3,5  \n",
    "13. \"SpG\" - The number of species per Genus  \n",
    "14. \"Type\" - Indicates whether or not the species was designated a 'type species' in the IOC's 7.3 list - Information provided by Dr. Alan Peterson, webmaster at www.zoonomen.net\n",
    "\n",
    "SpG, is a calculated variable.  \n",
    "Author parsing posed the greatest problem in preprocessing. Some authors have long names, some have intials. But still relatively straightforward. Crossreferenced www.zoonomen.net.\n",
    "\n",
    "*A notable omission from this **collected** data is subspecies information. The IOC includes subspecies information*"
   ]
  },
  {
   "cell_type": "markdown",
   "metadata": {},
   "source": [
    "### Comparing Rank and Date Rank\n",
    "\n",
    "My understanding of the ranking of species is that, from a biologial standpoint, in a genus with 4 species, the \\#2 and \\#3 species should be the same \"distance\" apart as the \\#45 and \\#46 species in a genus with 50 species. Thus, the Rank information can reasonably treated as \"interval\" data.  \n",
    "\n",
    "The Date Rank information does not adhere to the same structure, as the first described species and the second described species *in no way* have the same implicit relationship as the 30th and 31st described species of a genus. However, as this was a fairly late understanding, it was not incorperated into my work.  \n",
    "\n",
    "In comparing Rank and Date Rank information my aim was to describe the relationship between the two. It appears quite clear that there is a relationship. This proposes two interpretations:  \n",
    "\n",
    "First: Imagine that species Rank is as much - if not more - human prejudice as it is science. What do the circumstances of description (date, author, etc.) tell us about how we Rank that species?  \n",
    "\n",
    "Second: Imagine that our science is very good and we have (with negligible errors) correctly identified the the Rank of all species. What does this tell us about how we, as humans, encounter and describe the natural world as indicated by the circumstances of description?  \n",
    "\n",
    "Doubtless truth lies in the middle.  \n",
    "\n",
    "### A Quick Look at Some Distributions"
   ]
  },
  {
   "cell_type": "markdown",
   "metadata": {},
   "source": [
    "*This distribution of SpG is misleading as species rather than genera are being counted* "
   ]
  },
  {
   "cell_type": "code",
   "execution_count": 44,
   "metadata": {},
   "outputs": [
    {
     "data": {
      "image/png": "[encoded data removed]",
      "text/plain": [
       "<matplotlib.figure.Figure at 0x2a487f02cf8>"
      ]
     },
     "metadata": {},
     "output_type": "display_data"
    }
   ],
   "source": [
    "plt.figure(figsize = (6,4));i = 0\n",
    "for c in ['SpG', 'Rank','DateRank']:\n",
    "    i+=1\n",
    "    plt.subplot(2,2,i); plt.title(c)\n",
    "    plt.hist(df[c], bins = 30)\n",
    "plt.tight_layout()"
   ]
  },
  {
   "cell_type": "markdown",
   "metadata": {},
   "source": [
    "Below is the actual distribution of genera at every species per Genus level."
   ]
  },
  {
   "cell_type": "code",
   "execution_count": 148,
   "metadata": {
    "scrolled": true
   },
   "outputs": [
    {
     "data": {
      "image/png": "[encoded data removed]",
      "text/plain": [
       "<matplotlib.figure.Figure at 0x20f4c7af7f0>"
      ]
     },
     "metadata": {},
     "output_type": "display_data"
    }
   ],
   "source": [
    "dat = df['SpG'].value_counts().sort_index() / df['SpG'].value_counts().sort_index().index\n",
    "\n",
    "plt.subplot(211)\n",
    "plt.bar(dat.index, dat)\n",
    "plt.title('Counts of Genera with n species')\n",
    "\n",
    "plt.subplot(212)\n",
    "plt.bar(dat.index, dat / dat.sum())\n",
    "plt.title('Proportion of Genera with n species')\n",
    "\n",
    "plt.tight_layout()"
   ]
  },
  {
   "cell_type": "markdown",
   "metadata": {},
   "source": [
    "### Generating uniform \"expectations\"\n",
    "\n",
    "The above distributions start to give an idea of the \"count\" of species at each Rank and each Date Rank. By performing a simple \"groupby\" in pandas, the number of species at each (Rank, DateRank) pair was attained.  \n",
    "\n",
    "The more involved process was generating an \"expectation\" at for each of those (Rank, DateRank) pairs. I mainly focused on the expectations of species observed at each rank. Thus, to create a uniform expectation I simply took the total number of taxa at a particular *DateRank* and divided by the number of species per genus. Thus, if, for example 8 taxa were observed with DateRank one in a genera with four species per genus, a uniform distribution suggest 2 would be expected at each Rank.  \n",
    "\n",
    "In a slightly less trivial example, if 15 taxa are observed with DateRank 2 in genera with 60 species per genus, the uniform distribution generates an expectation of .25 taxa at each Rank.  \n",
    "\n",
    "In this manner, counts, expectations, z-scores, and p-values can be calculated "
   ]
  },
  {
   "cell_type": "markdown",
   "metadata": {},
   "source": [
    "### Mitigating issues arising from the distribution of the data  \n",
    "\n",
    "As is obvious, the data follows a logrithmic / \"hollow-curve\" distribution.  \n",
    "\n",
    "While from a biological standpoint the \"distance\" between any two consecutively-ranked species might be the same, from a practical standpoint, most species are ranked 1, 2, or 3, and very few are ranked 60,61,62 [highest SpG and thus Rank is 90]. Thus, in comparing Rank and Date Rank, I took a couple of approaches:  \n",
    "\n",
    "First, only look at species of Rank or Date Rank less than ten.  \n",
    "In particular this was my strategy in exploratory and descriptive analysis. Beyond Rank or Date Rank of only four or five, distributions start to break down into the noise of small numbers.  \n",
    "\n",
    "Second, experiment with transformations.  \n",
    "This I only performed on the \"Rank\" variable. The first, (and obvious) choice is a log transformation. A second strategy I used was normalization, which is to say (Rank - 1 )/ (SpG-1), such that each rank is converted to a value between 1 and 0. From a theoretical point of view I leaned toward the log-transformation due to the fact it preserved much of the \"interval\" nature of the information while diminishing the impact of those high SpG genera on the loss functions for our modeling techniques."
   ]
  },
  {
   "cell_type": "markdown",
   "metadata": {},
   "source": [
    "### Modeling techniques  \n",
    "\n",
    "The goal here was not one of prediction, but rather one of description: How much information is contained in this data? What might be implied or inferred by the data?  \n",
    "\n",
    "As such, I only used \"interpretable\" modeling techniques of linear models and decision trees. Linear models did not produce much in the way of useful results, and decision trees needed to be closely watched so as to not over-fit to those high SpG genera.  \n",
    "\n",
    "One of the issues is that of determining a baseline.  \n",
    "\n",
    "For untransformed data, the naieve \"guess\" would be the mean of all ranks, or, more simply, (1+n)/2. For log-transformed data, it is simply ln((1+n)/2).  Finally for the standardized data, the guess is .5.  Resulting \"baseline\" scores for MSE and $R^2$ can be found in code."
   ]
  },
  {
   "cell_type": "markdown",
   "metadata": {},
   "source": [
    "### Comparison of SpG, species per author, and genera per author  \n",
    "\n",
    "Comparing Rank to Date Rank information suggested an underlying relationship between the order of description and our phylogenetic ordering. However, this relationship probably doesn't indicate much about the ranking of the species, or even the order of description. Instead, it probably stems from the process by which species are split into genera.\n",
    "  \n",
    "\n",
    "Genera grouping are arbitrary in so much as they represent our best effort to create groupings. The number of species or genera described by each author are true observations / distributions (some noise may be introduced by multiple-author descriptions). Usefully the unit of count between the distributions (species) remains the same.  \n",
    "\n",
    "In performing visual analysis I aimed to describe the differences and similarities between the distributions.  \n",
    "\n",
    "Each of the three distributions appear to follow a \"hollow-curve.\" However, the SpG curve is pushed out a little from the origin.  \n",
    "\n",
    "Particularly when the distribtions are visualized in a manner that highlights the relative contribution to species total from each grouping level (e.g. what percent of species are found in genera with one species vs. what percent of species were described by author who only described a single species) marked differences begin to appear. That slight \"pushing out\" from the origin in the SpG curve as compared to the SpA and GpA curves indicates a much higher proportion of species residing in genera with low numbers of species as compared to species coming from authors with low description totals.  \n",
    "\n",
    "In Dr. Peterson's discussions with Ernst Mayr, Mayr suggested that speciation occured via two processes; splitting and diverging. Additionally, those two processes are different. Thus I made an attempt to parameterize the \"hollow-curve\" with a random-uniform liklihood of spliting, and a normally-distributed diverging term. No successful approximation was possible. The goal was to find a (splitting, diverging) parameterization which could then be used to describe the difference between the SpG and SpA curves."
   ]
  },
  {
   "cell_type": "markdown",
   "metadata": {},
   "source": [
    "*Much thanks to the resources located at www.WorldBirdnames.org; www.zoonomen.net and Dr. Alan Peterson*"
   ]
  }
 ],
 "metadata": {
  "kernelspec": {
   "display_name": "Python 3",
   "language": "python",
   "name": "python3"
  },
  "language_info": {
   "codemirror_mode": {
    "name": "ipython",
    "version": 3
   },
   "file_extension": ".py",
   "mimetype": "text/x-python",
   "name": "python",
   "nbconvert_exporter": "python",
   "pygments_lexer": "ipython3",
   "version": "3.6.3"
  }
 },
 "nbformat": 4,
 "nbformat_minor": 2
}
